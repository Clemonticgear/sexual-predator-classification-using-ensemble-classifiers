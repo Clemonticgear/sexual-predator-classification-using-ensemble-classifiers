{
 "cells": [
  {
   "cell_type": "code",
   "execution_count": 10,
   "metadata": {
    "collapsed": false
   },
   "outputs": [],
   "source": [
    "import scipy\n",
    "from lxml import etree"
   ]
  },
  {
   "cell_type": "code",
   "execution_count": 2,
   "metadata": {
    "collapsed": true
   },
   "outputs": [],
   "source": [
    "pathToFile='../../dataset/pan12-sexual-predator-identification-training-corpus-2012-05-01.xml'\n",
    "tree=etree.parse(pathToFile)\n",
    "razg=tree.xpath('/conversations/conversation')"
   ]
  },
  {
   "cell_type": "code",
   "execution_count": 29,
   "metadata": {
    "collapsed": false
   },
   "outputs": [],
   "source": [
    "# returns time represented as seconds from hh:mm format\n",
    "def parse_time(time_string):\n",
    "    hh = time_string.split(\":\")[0];\n",
    "    mm = time_string.split(\":\")[1];\n",
    "    hh = int(hh)*3600;\n",
    "    mm = int(mm)*60;\n",
    "    return hh+mm;"
   ]
  },
  {
   "cell_type": "code",
   "execution_count": 25,
   "metadata": {
    "collapsed": true
   },
   "outputs": [],
   "source": [
    "#returns the duration of given conversation, in seconds\n",
    "def chat_duration(conversation): \n",
    "    times=conversation.xpath('./message/time')\n",
    "    start=parse_time(extract_text_between_tags(times[0]))\n",
    "    end=parse_time(extract_text_between_tags(times[len(times)-1]))\n",
    "    return end-start;"
   ]
  },
  {
   "cell_type": "code",
   "execution_count": 82,
   "metadata": {
    "collapsed": false
   },
   "outputs": [],
   "source": [
    "#converts time in seconds to string in hh:mm format\n",
    "def seconds_to_string(time):\n",
    "    str=\"\"\n",
    "    hh = time/3600\n",
    "    print hh\n",
    "    mm = time/float(60)%60\n",
    "    if(hh<10):\n",
    "        str+=\"0{}\".format(hh)\n",
    "    else:\n",
    "        str+=\"{}\".format(hh)\n",
    "    str+=\":\"\n",
    "    if(mm<10):\n",
    "        str+=\"0{}\".format(int(mm))\n",
    "    else:\n",
    "        str+=\"{}\".format(int(mm))\n",
    "    return str"
   ]
  }
 ],
 "metadata": {
  "kernelspec": {
   "display_name": "Python 2",
   "language": "python",
   "name": "python2"
  },
  "language_info": {
   "codemirror_mode": {
    "name": "ipython",
    "version": 2
   },
   "file_extension": ".py",
   "mimetype": "text/x-python",
   "name": "python",
   "nbconvert_exporter": "python",
   "pygments_lexer": "ipython2",
   "version": "2.7.10"
  }
 },
 "nbformat": 4,
 "nbformat_minor": 0
}
