{
 "cells": [
  {
   "cell_type": "code",
   "execution_count": null,
   "metadata": {
    "collapsed": false
   },
   "outputs": [],
   "source": [
    "import scipy\n",
    "import sys\n",
    "from lxml import etree\n",
    "import FeatureExtraction as FE\n",
    "sys.path.insert(0, '../notebooks/libs/')"
   ]
  },
  {
   "cell_type": "code",
   "execution_count": null,
   "metadata": {
    "collapsed": true
   },
   "outputs": [],
   "source": [
    "#Jedna linija je jedan dokument.\n",
    "#Lista svih linija.\n",
    "#id - autor, broj njegove linije\n",
    "\n",
    "pathToFile='../../dataset/training/pan12-sexual-predator-identification-training-corpus-2012-05-01.xml'\n",
    "pathToIds = '../../dataset/training/pan12-sexual-predator-identification-training-corpus-predators-2012-05-01.txt'\n",
    "tree=etree.parse(pathToFile)\n",
    "predators_ids = FE.sexual_predator_ids(pathToIds)"
   ]
  },
  {
   "cell_type": "code",
   "execution_count": null,
   "metadata": {
    "collapsed": true
   },
   "outputs": [],
   "source": [
    "#path_to_file - put do xml datoteke\n",
    "#predator_ids - lista id seksualnih predatora\n",
    "def prepare_data_for_clustering(path_to_file,predators_ids):\n",
    "    tree = etree.parse(pathToFile)\n",
    "    dictionary = FE.extract_author_conversation_node_dictionary_from_XML(tree)\n",
    "    #lista konverzacija u kojima sudjeluje predator\n",
    "    conversations = []\n",
    "    conv_ids = []\n",
    "    line_nrs = []\n",
    "    line_texts = []\n",
    "    for predator in predators_ids:\n",
    "        convs = dictionary[predator]\n",
    "        for c in convs:\n",
    "            conversations.append(c)\n",
    "    for conv_node in conversations:\n",
    "        conv_id  = conv_node.attrib[\"id\"]\n",
    "        messgs = conv_node.xpath(\"./message\")\n",
    "        for mess_node in messgs:          \n",
    "            text = mess_node.xpath(\"./text\")[0].text\n",
    "            if text is None:\n",
    "                continue\n",
    "            conv_ids.append(conv_id)\n",
    "            line_nr = mess_node.attrib[\"line\"]\n",
    "            line_nrs.append(line_nr)\n",
    "            line_texts.append(text)\n",
    "    return conv_ids,line_nrs,line_texts"
   ]
  },
  {
   "cell_type": "code",
   "execution_count": null,
   "metadata": {
    "collapsed": false
   },
   "outputs": [],
   "source": [
    "conv_ids,line_nrs,line_texts = prepare_data_for_clustering(pathToFile,predators_ids)"
   ]
  },
  {
   "cell_type": "code",
   "execution_count": null,
   "metadata": {
    "collapsed": false
   },
   "outputs": [],
   "source": [
    "print len(conv_ids)\n",
    "print conv_ids[0:10]\n",
    "print len(line_nrs)\n",
    "print line_nrs[0:10]\n",
    "print len(line_texts)\n",
    "print line_texts[0:10]"
   ]
  },
  {
   "cell_type": "code",
   "execution_count": null,
   "metadata": {
    "collapsed": false
   },
   "outputs": [],
   "source": [
    "cnt=0\n",
    "for l in line_texts:\n",
    "    if l is None:\n",
    "        cnt+=1\n",
    "print cnt"
   ]
  },
  {
   "cell_type": "markdown",
   "metadata": {},
   "source": [
    "message_node?"
   ]
  },
  {
   "cell_type": "code",
   "execution_count": null,
   "metadata": {
    "collapsed": true
   },
   "outputs": [],
   "source": [
    "from sklearn.feature_extraction.text import TfidfVectorizer\n",
    "def make_tf_idf_matrix_for_clustering_from_XML(line_texts):\n",
    "    tfidf=TfidfVectorizer(stop_words='english',min_df=10)\n",
    "    return tfidf.fit_transform(line_texts), tfidf.get_feature_names()"
   ]
  },
  {
   "cell_type": "code",
   "execution_count": null,
   "metadata": {
    "collapsed": false
   },
   "outputs": [],
   "source": [
    "matrix, ft_names = make_tf_idf_matrix_for_clustering_from_XML(line_texts)"
   ]
  },
  {
   "cell_type": "code",
   "execution_count": null,
   "metadata": {
    "collapsed": false
   },
   "outputs": [],
   "source": [
    "matrix.shape"
   ]
  },
  {
   "cell_type": "code",
   "execution_count": null,
   "metadata": {
    "collapsed": true
   },
   "outputs": [],
   "source": [
    "from sklearn.cluster import KMeans"
   ]
  },
  {
   "cell_type": "code",
   "execution_count": null,
   "metadata": {
    "collapsed": true
   },
   "outputs": [],
   "source": [
    "random_state = 170\n",
    "y_pred = KMeans(n_clusters=2, random_state=random_state).fit_predict(matrix)"
   ]
  },
  {
   "cell_type": "code",
   "execution_count": null,
   "metadata": {
    "collapsed": false
   },
   "outputs": [],
   "source": [
    "#ako je flag true, u file ce se ispisati i sadrzaj recenica\n",
    "#ako je flag false, file je u formatu id konverzacije, broj linije\n",
    "import codecs\n",
    "def dump_prediction_to_file(prediction_vector,conv_ids,line_nrs,line_texts,show_text=True):\n",
    "    f = codecs.open('class_zero','w','utf-8')\n",
    "    g = codecs.open('class_one','w','utf-8')\n",
    "    for i,p in enumerate(prediction_vector):\n",
    "        if p==0:\n",
    "            line = str(conv_ids[i])+\" \"+str(line_nrs[i])\n",
    "            if show_text:\n",
    "                line+=\" \"+line_texts[i]+\"\\n\"\n",
    "            else:\n",
    "                line+=\"\\n\"\n",
    "            f.write(line)\n",
    "        else:\n",
    "            line = str(conv_ids[i])+\" \"+str(line_nrs[i])\n",
    "            if show_text:\n",
    "                line+=\" \"+line_texts[i]+\"\\n\"\n",
    "            else:\n",
    "                line+=\"\\n\"\n",
    "            g.write(line)\n",
    "            \n",
    "    f.close()\n",
    "    g.close()\n",
    "    "
   ]
  },
  {
   "cell_type": "code",
   "execution_count": null,
   "metadata": {
    "collapsed": false
   },
   "outputs": [],
   "source": [
    "dump_prediction_to_file(y_pred,conv_ids,line_nrs,line_texts,show_text=False)"
   ]
  },
  {
   "cell_type": "code",
   "execution_count": null,
   "metadata": {
    "collapsed": true
   },
   "outputs": [],
   "source": []
  }
 ],
 "metadata": {
  "kernelspec": {
   "display_name": "Python 2",
   "language": "python",
   "name": "python2"
  },
  "language_info": {
   "codemirror_mode": {
    "name": "ipython",
    "version": 2
   },
   "file_extension": ".py",
   "mimetype": "text/x-python",
   "name": "python",
   "nbconvert_exporter": "python",
   "pygments_lexer": "ipython2",
   "version": "2.7.10"
  }
 },
 "nbformat": 4,
 "nbformat_minor": 0
}
