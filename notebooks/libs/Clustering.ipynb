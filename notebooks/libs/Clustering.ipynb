{
 "cells": [
  {
   "cell_type": "code",
   "execution_count": 1,
   "metadata": {
    "collapsed": true
   },
   "outputs": [],
   "source": [
    "import scipy\n",
    "import sys\n",
    "from lxml import etree\n",
    "import FeatureExtraction as FE\n",
    "sys.path.insert(0, '../notebooks/libs/')\n"
   ]
  },
  {
   "cell_type": "code",
   "execution_count": 2,
   "metadata": {
    "collapsed": false
   },
   "outputs": [],
   "source": [
    "#Jedna linija je jedan dokument.\n",
    "#Lista svih linija.\n",
    "#id - autor, broj njegove linije\n",
    "pathToFile='../../dataset/training/pan12-sexual-predator-identification-training-corpus-2012-05-01.xml'\n",
    "pathToIds = '../../dataset/training/pan12-sexual-predator-identification-training-corpus-predators-2012-05-01.txt'\n",
    "tree=etree.parse(pathToFile)\n",
    "predators_ids = FE.sexual_predator_ids(pathToIds)"
   ]
  },
  {
   "cell_type": "code",
   "execution_count": null,
   "metadata": {
    "collapsed": false
   },
   "outputs": [],
   "source": [
    "predators_ids"
   ]
  },
  {
   "cell_type": "code",
   "execution_count": null,
   "metadata": {
    "collapsed": true
   },
   "outputs": [],
   "source": [
    "def prepare_for_tf_idf(path_to_dataset_xml):\n",
    "    tree=etree.parse(path_to_dataset_xml)\n",
    "    message_node = extract_message_nodes_as_list_from_parsed_text(tree)\n",
    "    dictionary= extract_author_text_dictionary_from_message_nodes(message_node)\n",
    "    filter_words_from_dictionary(dictionary) \n",
    "    list_of_authors_strings = []\n",
    "    for key in sorted(dictionary):\n",
    "        tmp = dictionary.get(key)\n",
    "        if None in tmp:\n",
    "            dictionary[key]=''\n",
    "        list_of_authors_strings.append(' '.join(dictionary.get(key)))\n",
    "    return list_of_authors_strings"
   ]
  },
  {
   "cell_type": "code",
   "execution_count": 3,
   "metadata": {
    "collapsed": false
   },
   "outputs": [],
   "source": [
    "message_nodes = FE.extract_message_nodes_as_list_from_parsed_text(tree)"
   ]
  },
  {
   "cell_type": "markdown",
   "metadata": {},
   "source": [
    "message_node?"
   ]
  },
  {
   "cell_type": "code",
   "execution_count": 19,
   "metadata": {
    "collapsed": false
   },
   "outputs": [
    {
     "name": "stdout",
     "output_type": "stream",
     "text": [
      "c18a32dc7dc8b612f47c3d21f6ccf5f0\n"
     ]
    }
   ],
   "source": [
    "message_node = message_nodes[100]\n",
    "lista = message_node.xpath('./author')\n",
    "for l in lista:\n",
    "    print str(l.text)"
   ]
  },
  {
   "cell_type": "code",
   "execution_count": null,
   "metadata": {
    "collapsed": false
   },
   "outputs": [],
   "source": [
    "text_nodes=[]\n",
    "for message_node in message_nodes:\n",
    "    text_node = message_node.xpath('./text')\n",
    "    for node in text_node:\n",
    "        text_nodes.append(node.text)        "
   ]
  },
  {
   "cell_type": "code",
   "execution_count": null,
   "metadata": {
    "collapsed": true
   },
   "outputs": [],
   "source": [
    "text_nodes?"
   ]
  },
  {
   "cell_type": "code",
   "execution_count": 23,
   "metadata": {
    "collapsed": false
   },
   "outputs": [],
   "source": [
    "def extract_all_chat_lines_from_XML(pathToFile,predators_ids):\n",
    "    tree=etree.parse(pathToFile)\n",
    "    message_nodes = FE.extract_message_nodes_as_list_from_parsed_text(tree)\n",
    "    text_nodes=[]\n",
    "    for message_node in message_nodes:\n",
    "        list_of_authors = message_node.xpath('./author')\n",
    "        for author in list_of_authors:\n",
    "            if str(author.text) in predators_ids:\n",
    "                text_node = message_node.xpath('./text')\n",
    "            else:\n",
    "                continue\n",
    "            for node in text_node:\n",
    "                if node.text is None:\n",
    "                    continue\n",
    "                text_nodes.append(node.text)\n",
    "    return text_nodes"
   ]
  },
  {
   "cell_type": "code",
   "execution_count": 24,
   "metadata": {
    "collapsed": true
   },
   "outputs": [],
   "source": [
    "from sklearn.feature_extraction.text import TfidfVectorizer\n",
    "def make_tf_idf_matrix_for_clustering_from_XML(pathToFile, predators_ids):\n",
    "    text_nodes=extract_all_chat_lines_from_XML(pathToFile,predators_ids)\n",
    "    tfidf=TfidfVectorizer(stop_words='english',min_df=10)\n",
    "    #X = tfidf.fit_transform(list_of_authors_strings)\n",
    "    #idf = tfidf._tfidf\n",
    "    return tfidf.fit_transform(text_nodes), tfidf.get_feature_names()\n",
    "    #return dict(zip(tfidf.get_feature_names(), idf))\n",
    "    #return tfidf.get_feature_names(),idf"
   ]
  },
  {
   "cell_type": "code",
   "execution_count": 25,
   "metadata": {
    "collapsed": false
   },
   "outputs": [],
   "source": [
    "matrix,lines= make_tf_idf_matrix_for_clustering_from_XML('../../dataset/training/pan12-sexual-predator-identification-training-corpus-2012-05-01.xml',predators_ids)"
   ]
  },
  {
   "cell_type": "code",
   "execution_count": 30,
   "metadata": {
    "collapsed": false
   },
   "outputs": [
    {
     "data": {
      "text/plain": [
       "<1x977 sparse matrix of type '<type 'numpy.float64'>'\n",
       "\twith 1 stored elements in Compressed Sparse Row format>"
      ]
     },
     "execution_count": 30,
     "metadata": {},
     "output_type": "execute_result"
    }
   ],
   "source": [
    "matrix[0]"
   ]
  },
  {
   "cell_type": "code",
   "execution_count": 27,
   "metadata": {
    "collapsed": true
   },
   "outputs": [],
   "source": [
    "from sklearn.cluster import KMeans"
   ]
  },
  {
   "cell_type": "code",
   "execution_count": 31,
   "metadata": {
    "collapsed": true
   },
   "outputs": [],
   "source": [
    "random_state = 170\n",
    "y_pred = KMeans(n_clusters=2, random_state=random_state).fit_predict(matrix)"
   ]
  },
  {
   "cell_type": "code",
   "execution_count": 29,
   "metadata": {
    "collapsed": true
   },
   "outputs": [],
   "source": [
    "y_pred?"
   ]
  },
  {
   "cell_type": "code",
   "execution_count": null,
   "metadata": {
    "collapsed": true
   },
   "outputs": [],
   "source": []
  }
 ],
 "metadata": {
  "kernelspec": {
   "display_name": "Python 2",
   "language": "python",
   "name": "python2"
  },
  "language_info": {
   "codemirror_mode": {
    "name": "ipython",
    "version": 2
   },
   "file_extension": ".py",
   "mimetype": "text/x-python",
   "name": "python",
   "nbconvert_exporter": "python",
   "pygments_lexer": "ipython2",
   "version": "2.7.10"
  }
 },
 "nbformat": 4,
 "nbformat_minor": 0
}
