{
 "cells": [
  {
   "cell_type": "code",
   "execution_count": 1,
   "metadata": {
    "collapsed": true
   },
   "outputs": [],
   "source": [
    "from lxml import etree\n",
    "import FeatureExtraction as FE\n",
    "import numpy"
   ]
  },
  {
   "cell_type": "code",
   "execution_count": 2,
   "metadata": {
    "collapsed": false
   },
   "outputs": [],
   "source": [
    "sexual_predator_ids_file = '../../dataset/test/pan12-sexual-predator-identification-groundtruth-problem1.txt'"
   ]
  },
  {
   "cell_type": "code",
   "execution_count": 3,
   "metadata": {
    "collapsed": false
   },
   "outputs": [],
   "source": [
    "def create_csv(input_file_path, output_file_name, batch_size):\n",
    "    tree = etree.parse(input_file_path)\n",
    "    author_conversation_node_dictionary = FE.extract_author_conversation_node_dictionary_from_XML(tree)\n",
    "    del tree\n",
    "    \n",
    "    output_file_csv = open(output_file_name, 'w+')\n",
    "    output_string_list = ['autor', 'number of conversation', 'percent of conversations started by the author',\n",
    "                         'difference between two preceding lines[s]', 'number of messages sent',\n",
    "                         'average percent of lines in conversation', 'average percent of characters in conversation',\n",
    "                         'number of characters sent by the author', 'mean time of messages sent',\n",
    "                         'is sexual predator']\n",
    "    output_string = ','.join(output_string_list) + \"\\n\"\n",
    "    \n",
    "    sexual_predator_ids_list = FE.sexual_predator_ids(sexual_predator_ids_file)\n",
    "    \n",
    "    i = 0\n",
    "    for author, conversation_nodes in author_conversation_node_dictionary.iteritems():\n",
    "        output_list = [author,\n",
    "                       len(conversation_nodes),\n",
    "                       FE.average_trough_all_conversations(author, conversation_nodes, FE.is_starting_conversation),\n",
    "                       FE.average_trough_all_conversations(author, conversation_nodes, \n",
    "                                    FE.avg_time_between_message_lines_in_seconds_for_author_in_conversation),\n",
    "                       FE.number_of_messages_sent_by_the_author(author, conversation_nodes),\n",
    "                       FE.average_trough_all_conversations(author, conversation_nodes,\n",
    "                                                           FE.percentage_of_lines_in_conversation),\n",
    "                       FE.average_trough_all_conversations(author, conversation_nodes,\n",
    "                                                           FE.percentage_of_characters_in_conversation),\n",
    "                       FE.number_of_characters_sent_by_the_author(author, conversation_nodes),\n",
    "                       FE.mean_time_of_messages_sent(author, conversation_nodes),\n",
    "                       '1' if author in sexual_predator_ids_list else '0'\n",
    "                      ]\n",
    "        output_string += ','.join(map(str, output_list)) + '\\n'\n",
    "        if i == batch_size:\n",
    "            output_file_csv.write(output_string)\n",
    "            output_string = ''\n",
    "            i = -1\n",
    "            \n",
    "        i += 1\n",
    "        \n",
    "    del output_string\n",
    "    del author_conversation_node_dictionary\n",
    "    output_file_csv.close()"
   ]
  },
  {
   "cell_type": "code",
   "execution_count": 4,
   "metadata": {
    "collapsed": false
   },
   "outputs": [],
   "source": [
    "file_path='../../dataset/test/pan12-sexual-predator-identification-test-corpus-2012-05-17.xml'"
   ]
  },
  {
   "cell_type": "code",
   "execution_count": 5,
   "metadata": {
    "collapsed": false
   },
   "outputs": [],
   "source": [
    "create_csv(file_path, '../../csv/chat_based_features_test.csv', 10000)"
   ]
  },
  {
   "cell_type": "code",
   "execution_count": null,
   "metadata": {
    "collapsed": true
   },
   "outputs": [],
   "source": []
  },
  {
   "cell_type": "code",
   "execution_count": null,
   "metadata": {
    "collapsed": false
   },
   "outputs": [],
   "source": []
  }
 ],
 "metadata": {
  "kernelspec": {
   "display_name": "Python 2",
   "language": "python",
   "name": "python2"
  },
  "language_info": {
   "codemirror_mode": {
    "name": "ipython",
    "version": 2
   },
   "file_extension": ".py",
   "mimetype": "text/x-python",
   "name": "python",
   "nbconvert_exporter": "python",
   "pygments_lexer": "ipython2",
   "version": "2.7.11"
  }
 },
 "nbformat": 4,
 "nbformat_minor": 0
}
