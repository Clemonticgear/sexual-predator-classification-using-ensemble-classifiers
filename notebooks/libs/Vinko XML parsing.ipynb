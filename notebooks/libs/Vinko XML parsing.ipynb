{
 "cells": [
  {
   "cell_type": "code",
   "execution_count": 1,
   "metadata": {
    "collapsed": false
   },
   "outputs": [],
   "source": [
    "from lxml import etree\n",
    "import FeatureExtraction as FE"
   ]
  },
  {
   "cell_type": "code",
   "execution_count": 2,
   "metadata": {
    "collapsed": true
   },
   "outputs": [],
   "source": [
    "pathToFile='../../dataset/training/pan12-sexual-predator-identification-training-corpus-2012-05-01.xml'"
   ]
  },
  {
   "cell_type": "code",
   "execution_count": 3,
   "metadata": {
    "collapsed": true
   },
   "outputs": [],
   "source": [
    "def extract_text_between_tags(node):\n",
    "    return \"\".join([x for x in node.itertext()])"
   ]
  },
  {
   "cell_type": "markdown",
   "metadata": {},
   "source": [
    "# Extract author text as dictionary"
   ]
  },
  {
   "cell_type": "markdown",
   "metadata": {},
   "source": [
    "Extract a dictionary with the Author as the <b>key</b> and all his texts in a list as <b>value</b>. The function takes parsed text (lxml)."
   ]
  },
  {
   "cell_type": "code",
   "execution_count": null,
   "metadata": {
    "collapsed": false
   },
   "outputs": [],
   "source": [
    "def extract_author_text_dictionary_from_message_nodes(message_nodes):\n",
    "    author_text_dictionary = {}\n",
    "    for message_node in message_nodes:\n",
    "        text_nodes = message_node.xpath('./text') \n",
    "        author_nodes = message_node.xpath('./author')\n",
    "        \n",
    "        for author_node, text_node in zip(author_nodes, text_nodes):\n",
    "            author_text_dictionary.setdefault(author_node.text, []).append(text_node.text)\n",
    "        \n",
    "    return author_text_dictionary"
   ]
  },
  {
   "cell_type": "code",
   "execution_count": null,
   "metadata": {
    "collapsed": true
   },
   "outputs": [],
   "source": [
    "def extract_author_conversation_node_dictionary_from_XML(xml):\n",
    "    conversation_nodes = extract_conversation_nodes_as_list_from_parsed_text(xml)\n",
    "    author_text_dictionary = {}\n",
    "    for conversation_node in conversation_nodes:\n",
    "        author_nodes = conversation_node.xpath('./message/author')\n",
    "        for author_node in author_nodes:\n",
    "            if conversation_node not in author_text_dictionary.get(author_node.text, []):\n",
    "                author_text_dictionary.setdefault(author_node.text, []).append(conversation_node)\n",
    "        \n",
    "    return author_text_dictionary"
   ]
  },
  {
   "cell_type": "markdown",
   "metadata": {},
   "source": [
    "# Extract all authors in the XML text"
   ]
  },
  {
   "cell_type": "markdown",
   "metadata": {},
   "source": [
    "Extract all authors from parsed text (lxml)"
   ]
  },
  {
   "cell_type": "code",
   "execution_count": null,
   "metadata": {
    "collapsed": true
   },
   "outputs": [],
   "source": [
    "def extract_authors_from_parsed_text(parsed_text):\n",
    "    author_nodes = parsed_text.xpath('/conversations/conversation/message/author')\n",
    "    unique_authors = set()\n",
    "    for author_node in author_nodes:\n",
    "        unique_authors.add(extract_text_between_tags(author_node))\n",
    "    return unique_authors"
   ]
  },
  {
   "cell_type": "code",
   "execution_count": null,
   "metadata": {
    "collapsed": true
   },
   "outputs": [],
   "source": [
    "def extract_author_nodes_as_list_from_parsed_text(parsed_text):\n",
    "    return parsed_text.xpath('/conversations/conversation/message/author')"
   ]
  },
  {
   "cell_type": "code",
   "execution_count": null,
   "metadata": {
    "collapsed": true
   },
   "outputs": [],
   "source": [
    "def extract_message_nodes_as_list_from_parsed_text(parsed_text):\n",
    "    return parsed_text.xpath('/conversations/conversation/message')"
   ]
  },
  {
   "cell_type": "code",
   "execution_count": null,
   "metadata": {
    "collapsed": true
   },
   "outputs": [],
   "source": [
    "def extract_conversation_nodes_as_list_from_parsed_text(parsed_text):\n",
    "    return parsed_text.xpath('/conversations/conversation')"
   ]
  },
  {
   "cell_type": "code",
   "execution_count": null,
   "metadata": {
    "collapsed": false
   },
   "outputs": [],
   "source": [
    "tree = etree.parse(pathToFile)\n",
    "authors = extract_authors_from_parsed_text(tree)\n",
    "print len(authors) \n",
    "\n",
    "#print authors"
   ]
  },
  {
   "cell_type": "code",
   "execution_count": null,
   "metadata": {
    "collapsed": false
   },
   "outputs": [],
   "source": [
    "message_nodes = extract_message_nodes_as_list_from_parsed_text(tree)\n",
    "#print extract_author_text_dictionary_from_message_nodes(message_nodes)\n",
    "#d = extract_author_conversation_node_dictionary_from_XML(tree)"
   ]
  },
  {
   "cell_type": "code",
   "execution_count": null,
   "metadata": {
    "collapsed": false
   },
   "outputs": [],
   "source": [
    "sexual_predator_ids_file = '../../dataset/training/pan12-sexual-predator-identification-training-corpus-predators-2012-05-01.txt'\n",
    "with open(sexual_predator_ids_file) as f:\n",
    "    lines = f.read().splitlines()\n",
    "\n",
    "#def sexual"
   ]
  },
  {
   "cell_type": "code",
   "execution_count": 4,
   "metadata": {
    "collapsed": false
   },
   "outputs": [],
   "source": [
    "def create_csv(output_file_path, batch_size):\n",
    "    tree = etree.parse(output_file_path)\n",
    "    author_conversation_node_dictionary = FE.extract_author_conversation_node_dictionary_from_XML(tree)\n",
    "    del tree\n",
    "    \n",
    "    output_file_csv = open('training.csv', 'w+')\n",
    "    output_string_list = ['autor', 'number of conversation', 'percent of conversations started by the author'\n",
    "                         'difference between two preceding lines[s]']\n",
    "    output_string = ','.join(output_string_list)\n",
    "    \n",
    "    i = 0\n",
    "    for author, conversation_nodes in author_conversation_node_dictionary.iteritems():\n",
    "        output_list = [author,\n",
    "                       len(conversation_nodes),\n",
    "                       FE.average_trough_all_conversations(author, conversation_nodes, FE.is_starting_conversation),\n",
    "                       FE.average_trough_all_conversations(author, conversation_nodes, FE.avg_time_between_message_lines_in_seconds_for_author_in_conversation)]\n",
    "        output_string += ','.join(map(str, output_list)) + '\\n'\n",
    "        if i == batch_size:\n",
    "            output_file_csv.write(output_string)\n",
    "            output_string = ''\n",
    "            i = -1\n",
    "            \n",
    "        i += 1\n",
    "        \n",
    "    del output_string\n",
    "    del author_conversation_node_dictionary\n",
    "    output_file_csv.close()"
   ]
  },
  {
   "cell_type": "code",
   "execution_count": 5,
   "metadata": {
    "collapsed": true
   },
   "outputs": [],
   "source": [
    "file_path = '../../dataset/training/pan12-sexual-predator-identification-training-corpus-2012-05-01.xml'"
   ]
  },
  {
   "cell_type": "code",
   "execution_count": 6,
   "metadata": {
    "collapsed": false
   },
   "outputs": [],
   "source": [
    "create_csv(file_path, 10000)"
   ]
  },
  {
   "cell_type": "code",
   "execution_count": null,
   "metadata": {
    "collapsed": true
   },
   "outputs": [],
   "source": []
  },
  {
   "cell_type": "code",
   "execution_count": null,
   "metadata": {
    "collapsed": true
   },
   "outputs": [],
   "source": []
  }
 ],
 "metadata": {
  "kernelspec": {
   "display_name": "Python 2",
   "language": "python",
   "name": "python2"
  },
  "language_info": {
   "codemirror_mode": {
    "name": "ipython",
    "version": 2
   },
   "file_extension": ".py",
   "mimetype": "text/x-python",
   "name": "python",
   "nbconvert_exporter": "python",
   "pygments_lexer": "ipython2",
   "version": "2.7.11"
  }
 },
 "nbformat": 4,
 "nbformat_minor": 0
}
