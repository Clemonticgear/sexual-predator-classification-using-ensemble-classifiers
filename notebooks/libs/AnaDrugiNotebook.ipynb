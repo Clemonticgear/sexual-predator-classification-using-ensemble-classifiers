{
 "cells": [
  {
   "cell_type": "code",
   "execution_count": 2,
   "metadata": {
    "collapsed": false
   },
   "outputs": [],
   "source": [
    "import scipy\n",
    "import sys\n",
    "from lxml import etree\n",
    "sys.path.insert(0, '../notebooks/libs/')\n",
    "import FeatureExtraction as FE"
   ]
  },
  {
   "cell_type": "code",
   "execution_count": 3,
   "metadata": {
    "collapsed": false
   },
   "outputs": [],
   "source": [
    "pathToFile='../../dataset/training/novi.xml'\n",
    "tree=etree.parse(pathToFile)"
   ]
  },
  {
   "cell_type": "code",
   "execution_count": null,
   "metadata": {
    "collapsed": true
   },
   "outputs": [],
   "source": [
    "# ovo nije potrebno\n",
    "def generator_author_and_conversation(dictionary):\n",
    "    for key in dictionary:\n",
    "        data = [dictionary.get(key)]\n",
    "        data.insert(0,key)\n",
    "        yield data\"\n"
   ]
  },
  {
   "cell_type": "code",
   "execution_count": 58,
   "metadata": {
    "collapsed": false
   },
   "outputs": [],
   "source": [
    "#function returns author - term matrix \n",
    "from sklearn.feature_extraction.text import TfidfVectorizer\n",
    "def make_tf_idf_matrix_from_XML(tree):\n",
    "    message_node = FE.extract_message_nodes_as_list_from_parsed_text(tree)\n",
    "    dictionary= FE.extract_author_text_dictionary_from_message_nodes(message_node)\n",
    "    list_of_authors_strings = []\n",
    "    for key in dictionary:\n",
    "        list_of_authors_strings.append(' '.join(dictionary.get(key)))\n",
    "    tfidf=TfidfVectorizer(stop_words='english')\n",
    "    return tfidf.fit_transform(list_of_authors_strings)"
   ]
  },
  {
   "cell_type": "code",
   "execution_count": 59,
   "metadata": {
    "collapsed": true
   },
   "outputs": [],
   "source": [
    "message_node = FE.extract_message_nodes_as_list_from_parsed_text(tree)\n",
    "dictionary= FE.extract_author_text_dictionary_from_message_nodes(message_node)"
   ]
  },
  {
   "cell_type": "code",
   "execution_count": 60,
   "metadata": {
    "collapsed": false
   },
   "outputs": [],
   "source": [
    "matrix = make_tf_idf_matrix_from_XML(tree)"
   ]
  },
  {
   "cell_type": "code",
   "execution_count": 62,
   "metadata": {
    "collapsed": false
   },
   "outputs": [
    {
     "data": {
      "text/plain": [
       "array([[ 0.        ,  0.        ,  0.        ,  0.        ,  0.        ,\n",
       "         0.        ,  0.        ,  0.        ,  0.        ,  0.52863461,\n",
       "         0.        ,  0.        ,  0.        ,  0.        ,  0.        ,\n",
       "         0.        ,  0.        ,  0.        ,  0.        ,  0.        ,\n",
       "         0.        ,  0.        ,  0.        ,  0.        ,  0.        ,\n",
       "         0.        ,  0.        ,  0.        ,  0.        ,  0.        ,\n",
       "         0.        ,  0.        ,  0.        ,  0.        ,  0.        ,\n",
       "         0.        ,  0.        ,  0.        ,  0.        ,  0.        ,\n",
       "         0.        ,  0.        ,  0.        ,  0.        ,  0.        ,\n",
       "         0.        ,  0.        ,  0.        ,  0.        ,  0.        ,\n",
       "         0.        ,  0.        ,  0.40204024,  0.        ,  0.        ,\n",
       "         0.        ,  0.        ,  0.        ,  0.        ,  0.        ,\n",
       "         0.        ,  0.        ,  0.        ,  0.        ,  0.52863461,\n",
       "         0.        ,  0.        ,  0.        ,  0.        ,  0.        ,\n",
       "         0.        ,  0.52863461,  0.        ,  0.        ,  0.        ,\n",
       "         0.        ,  0.        ,  0.        ,  0.        ,  0.        ,\n",
       "         0.        ,  0.        ,  0.        ,  0.        ,  0.        ,\n",
       "         0.        ,  0.        ,  0.        ,  0.        ,  0.        ,\n",
       "         0.        ,  0.        ,  0.        ,  0.        ,  0.        ,\n",
       "         0.        ,  0.        ,  0.        ,  0.        ,  0.        ,\n",
       "         0.        ,  0.        ,  0.        ,  0.        ,  0.        ,\n",
       "         0.        ,  0.        ,  0.        ,  0.        ,  0.        ,\n",
       "         0.        ,  0.        ,  0.        ,  0.        ,  0.        ,\n",
       "         0.        ,  0.        ,  0.        ,  0.        ,  0.        ,\n",
       "         0.        ,  0.        ,  0.        ,  0.        ,  0.        ,\n",
       "         0.        ,  0.        ,  0.        ,  0.        ,  0.        ,\n",
       "         0.        ,  0.        ,  0.        ,  0.        ,  0.        ,\n",
       "         0.        ,  0.        ,  0.        ,  0.        ,  0.        ,\n",
       "         0.        ,  0.        ,  0.        ,  0.        ,  0.        ,\n",
       "         0.        ],\n",
       "       [ 0.        ,  0.07362615,  0.        ,  0.07362615,  0.        ,\n",
       "         0.07362615,  0.        ,  0.67193498,  0.07362615,  0.        ,\n",
       "         0.        ,  0.05599458,  0.        ,  0.        ,  0.07362615,\n",
       "         0.14725229,  0.        ,  0.        ,  0.07362615,  0.        ,\n",
       "         0.07362615,  0.        ,  0.        ,  0.05599458,  0.07362615,\n",
       "         0.07362615,  0.        ,  0.07362615,  0.05599458,  0.        ,\n",
       "         0.07362615,  0.07362615,  0.        ,  0.        ,  0.        ,\n",
       "         0.07362615,  0.        ,  0.14725229,  0.07362615,  0.07362615,\n",
       "         0.07362615,  0.        ,  0.        ,  0.        ,  0.07362615,\n",
       "         0.07362615,  0.        ,  0.07362615,  0.        ,  0.07362615,\n",
       "         0.05599458,  0.07362615,  0.        ,  0.07362615,  0.        ,\n",
       "         0.07362615,  0.14725229,  0.07362615,  0.        ,  0.        ,\n",
       "         0.        ,  0.14725229,  0.        ,  0.07362615,  0.        ,\n",
       "         0.        ,  0.07362615,  0.        ,  0.        ,  0.        ,\n",
       "         0.        ,  0.        ,  0.        ,  0.07362615,  0.        ,\n",
       "         0.07362615,  0.        ,  0.05599458,  0.07362615,  0.07362615,\n",
       "         0.        ,  0.        ,  0.        ,  0.07362615,  0.05599458,\n",
       "         0.        ,  0.05599458,  0.        ,  0.        ,  0.        ,\n",
       "         0.07362615,  0.14725229,  0.07362615,  0.07362615,  0.05599458,\n",
       "         0.        ,  0.11198916,  0.11198916,  0.        ,  0.07362615,\n",
       "         0.07362615,  0.        ,  0.07362615,  0.07362615,  0.        ,\n",
       "         0.        ,  0.07362615,  0.        ,  0.        ,  0.        ,\n",
       "         0.07362615,  0.07362615,  0.05599458,  0.        ,  0.07362615,\n",
       "         0.        ,  0.05599458,  0.05599458,  0.07362615,  0.07362615,\n",
       "         0.        ,  0.07362615,  0.        ,  0.07362615,  0.07362615,\n",
       "         0.07362615,  0.05599458,  0.07362615,  0.        ,  0.        ,\n",
       "         0.        ,  0.        ,  0.07362615,  0.        ,  0.07362615,\n",
       "         0.        ,  0.05599458,  0.        ,  0.07362615,  0.07362615,\n",
       "         0.07362615,  0.05599458,  0.27997291,  0.        ,  0.        ,\n",
       "         0.        ],\n",
       "       [ 0.08339383,  0.        ,  0.08339383,  0.        ,  0.08339383,\n",
       "         0.        ,  0.16678766,  0.4439621 ,  0.        ,  0.        ,\n",
       "         0.08339383,  0.06342316,  0.08339383,  0.08339383,  0.        ,\n",
       "         0.        ,  0.08339383,  0.16678766,  0.        ,  0.08339383,\n",
       "         0.        ,  0.08339383,  0.08339383,  0.06342316,  0.        ,\n",
       "         0.        ,  0.08339383,  0.        ,  0.06342316,  0.08339383,\n",
       "         0.        ,  0.        ,  0.08339383,  0.08339383,  0.08339383,\n",
       "         0.        ,  0.08339383,  0.        ,  0.        ,  0.        ,\n",
       "         0.        ,  0.08339383,  0.08339383,  0.08339383,  0.        ,\n",
       "         0.        ,  0.08339383,  0.        ,  0.08339383,  0.        ,\n",
       "         0.06342316,  0.        ,  0.06342316,  0.        ,  0.08339383,\n",
       "         0.        ,  0.        ,  0.        ,  0.08339383,  0.08339383,\n",
       "         0.08339383,  0.        ,  0.25018149,  0.        ,  0.        ,\n",
       "         0.08339383,  0.        ,  0.08339383,  0.08339383,  0.08339383,\n",
       "         0.08339383,  0.        ,  0.08339383,  0.        ,  0.08339383,\n",
       "         0.        ,  0.08339383,  0.06342316,  0.        ,  0.        ,\n",
       "         0.08339383,  0.08339383,  0.08339383,  0.        ,  0.06342316,\n",
       "         0.08339383,  0.06342316,  0.08339383,  0.08339383,  0.08339383,\n",
       "         0.        ,  0.        ,  0.        ,  0.        ,  0.25369263,\n",
       "         0.08339383,  0.06342316,  0.12684632,  0.08339383,  0.        ,\n",
       "         0.        ,  0.08339383,  0.        ,  0.        ,  0.08339383,\n",
       "         0.08339383,  0.        ,  0.08339383,  0.08339383,  0.25018149,\n",
       "         0.        ,  0.        ,  0.06342316,  0.16678766,  0.        ,\n",
       "         0.08339383,  0.06342316,  0.06342316,  0.        ,  0.        ,\n",
       "         0.08339383,  0.        ,  0.08339383,  0.        ,  0.        ,\n",
       "         0.        ,  0.06342316,  0.        ,  0.08339383,  0.08339383,\n",
       "         0.08339383,  0.08339383,  0.        ,  0.08339383,  0.        ,\n",
       "         0.08339383,  0.06342316,  0.08339383,  0.        ,  0.        ,\n",
       "         0.        ,  0.06342316,  0.19026947,  0.08339383,  0.08339383,\n",
       "         0.08339383]])"
      ]
     },
     "execution_count": 62,
     "metadata": {},
     "output_type": "execute_result"
    }
   ],
   "source": [
    "matrix.toarray()"
   ]
  },
  {
   "cell_type": "code",
   "execution_count": 46,
   "metadata": {
    "collapsed": false
   },
   "outputs": [],
   "source": []
  },
  {
   "cell_type": "code",
   "execution_count": null,
   "metadata": {
    "collapsed": false
   },
   "outputs": [],
   "source": []
  },
  {
   "cell_type": "code",
   "execution_count": null,
   "metadata": {
    "collapsed": true
   },
   "outputs": [],
   "source": []
  }
 ],
 "metadata": {
  "kernelspec": {
   "display_name": "Python 2",
   "language": "python",
   "name": "python2"
  },
  "language_info": {
   "codemirror_mode": {
    "name": "ipython",
    "version": 2
   },
   "file_extension": ".py",
   "mimetype": "text/x-python",
   "name": "python",
   "nbconvert_exporter": "python",
   "pygments_lexer": "ipython2",
   "version": "2.7.10"
  }
 },
 "nbformat": 4,
 "nbformat_minor": 0
}
