{
 "cells": [
  {
   "cell_type": "code",
   "execution_count": 1,
   "metadata": {
    "collapsed": false
   },
   "outputs": [],
   "source": [
    "import scipy\n",
    "import sys\n",
    "from lxml import etree\n",
    "sys.path.insert(0, '../notebooks/libs/')\n",
    "import FeatureExtraction as FE"
   ]
  },
  {
   "cell_type": "code",
   "execution_count": 2,
   "metadata": {
    "collapsed": false
   },
   "outputs": [],
   "source": [
    "pathToFile='../../dataset/training/pan12-sexual-predator-identification-training-corpus-2012-05-01.xml'\n",
    "tree=etree.parse(pathToFile)"
   ]
  },
  {
   "cell_type": "code",
   "execution_count": 3,
   "metadata": {
    "collapsed": false
   },
   "outputs": [
    {
     "ename": "SyntaxError",
     "evalue": "EOL while scanning string literal (<ipython-input-3-4eda578cd11d>, line 6)",
     "output_type": "error",
     "traceback": [
      "\u001b[1;36m  File \u001b[1;32m\"<ipython-input-3-4eda578cd11d>\"\u001b[1;36m, line \u001b[1;32m6\u001b[0m\n\u001b[1;33m    yield data\"\u001b[0m\n\u001b[1;37m              ^\u001b[0m\n\u001b[1;31mSyntaxError\u001b[0m\u001b[1;31m:\u001b[0m EOL while scanning string literal\n"
     ]
    }
   ],
   "source": [
    "# ovo nije potrebno\n",
    "def generator_author_and_conversation(dictionary):\n",
    "    for key in dictionary:\n",
    "        data = [dictionary.get(key)]\n",
    "        data.insert(0,key)\n",
    "        yield data\"\n"
   ]
  },
  {
   "cell_type": "code",
   "execution_count": 11,
   "metadata": {
    "collapsed": false
   },
   "outputs": [],
   "source": [
    "#function returns author - term matrix \n",
    "from sklearn.feature_extraction.text import TfidfVectorizer\n",
    "def make_tf_idf_matrix_from_XML(tree):\n",
    "    message_node = FE.extract_message_nodes_as_list_from_parsed_text(tree)\n",
    "    dictionary= FE.extract_author_text_dictionary_from_message_nodes(message_node)\n",
    "    list_of_authors_strings = []\n",
    "    for key in dictionary:\n",
    "        tmp = dictionary.get(key)\n",
    "        if None in tmp:\n",
    "            continue\n",
    "        list_of_authors_strings.append(' '.join(dictionary.get(key)))\n",
    "    tfidf=TfidfVectorizer(stop_words='english')\n",
    "    return tfidf.fit_transform(list_of_authors_strings)"
   ]
  },
  {
   "cell_type": "code",
   "execution_count": null,
   "metadata": {
    "collapsed": true
   },
   "outputs": [],
   "source": []
  },
  {
   "cell_type": "code",
   "execution_count": 12,
   "metadata": {
    "collapsed": false
   },
   "outputs": [],
   "source": [
    "matrix = make_tf_idf_matrix_from_XML(tree)"
   ]
  },
  {
   "cell_type": "code",
   "execution_count": 18,
   "metadata": {
    "collapsed": false
   },
   "outputs": [
    {
     "name": "stdout",
     "output_type": "stream",
     "text": [
      "  (0, 23913)\t0.789195523094\n",
      "  (0, 63184)\t0.614142024558\n",
      "  (1, 62813)\t0.451341670565\n",
      "  (1, 23913)\t0.892351218081\n",
      "  (2, 62813)\t1.0\n",
      "  (3, 78643)\t0.675741946682\n",
      "  (3, 64137)\t0.319994421138\n",
      "  (3, 5858)\t0.253523567751\n",
      "  (3, 91678)\t0.288875426127\n",
      "  (3, 53230)\t0.278406216959\n",
      "  (3, 22756)\t0.385581279122\n",
      "  (3, 136730)\t0.231268767153\n",
      "  (3, 63184)\t0.116554680724\n",
      "  (4, 63918)\t0.961249743148\n",
      "  (4, 63184)\t0.27567903674\n",
      "  (5, 74219)\t0.273439056873\n",
      "  (5, 24007)\t0.223332933444\n",
      "  (5, 55619)\t0.190033409203\n",
      "  (5, 118691)\t0.224164108035\n",
      "  (5, 131623)\t0.366113208016\n",
      "  (5, 61679)\t0.286448547097\n",
      "  (5, 43229)\t0.433536307393\n",
      "  (5, 78964)\t0.18509511004\n",
      "  (5, 26059)\t0.192555792043\n",
      "  (5, 77403)\t0.130478096053\n",
      "  :\t:\n",
      "  (97372, 115643)\t0.151233243594\n",
      "  (97372, 25320)\t0.183358469941\n",
      "  (97372, 46498)\t0.154869103387\n",
      "  (97372, 42318)\t0.152752547607\n",
      "  (97372, 27553)\t0.147426624154\n",
      "  (97372, 55925)\t0.148372699398\n",
      "  (97372, 44895)\t0.106356237592\n",
      "  (97372, 115391)\t0.169998634075\n",
      "  (97372, 53230)\t0.119594038455\n",
      "  (97372, 63184)\t0.050068008972\n",
      "  (97373, 62813)\t1.0\n",
      "  (97374, 23913)\t1.0\n",
      "  (97375, 55405)\t0.723456322579\n",
      "  (97375, 117132)\t0.525072133382\n",
      "  (97375, 117382)\t0.448230079386\n",
      "  (97376, 91979)\t0.422114209105\n",
      "  (97376, 98082)\t0.407601399913\n",
      "  (97376, 26828)\t0.613802027751\n",
      "  (97376, 50107)\t0.261052559557\n",
      "  (97376, 20936)\t0.274104227444\n",
      "  (97376, 4838)\t0.193780882899\n",
      "  (97376, 20007)\t0.180451165756\n",
      "  (97376, 136954)\t0.139499606512\n",
      "  (97376, 78705)\t0.167151073168\n",
      "  (97376, 91661)\t0.134658539863\n"
     ]
    }
   ],
   "source": [
    "print matrix"
   ]
  },
  {
   "cell_type": "code",
   "execution_count": null,
   "metadata": {
    "collapsed": false
   },
   "outputs": [],
   "source": [
    "' '.join(ls)"
   ]
  },
  {
   "cell_type": "code",
   "execution_count": 6,
   "metadata": {
    "collapsed": false
   },
   "outputs": [],
   "source": [
    "ls = [None]"
   ]
  },
  {
   "cell_type": "code",
   "execution_count": 7,
   "metadata": {
    "collapsed": false
   },
   "outputs": [
    {
     "ename": "TypeError",
     "evalue": "sequence item 0: expected string, NoneType found",
     "output_type": "error",
     "traceback": [
      "\u001b[1;31m---------------------------------------------------------------------------\u001b[0m",
      "\u001b[1;31mTypeError\u001b[0m                                 Traceback (most recent call last)",
      "\u001b[1;32m<ipython-input-7-c1ab29831012>\u001b[0m in \u001b[0;36m<module>\u001b[1;34m()\u001b[0m\n\u001b[1;32m----> 1\u001b[1;33m \u001b[1;34m' '\u001b[0m\u001b[1;33m.\u001b[0m\u001b[0mjoin\u001b[0m\u001b[1;33m(\u001b[0m\u001b[0mls\u001b[0m\u001b[1;33m)\u001b[0m\u001b[1;33m\u001b[0m\u001b[0m\n\u001b[0m",
      "\u001b[1;31mTypeError\u001b[0m: sequence item 0: expected string, NoneType found"
     ]
    }
   ],
   "source": [
    "' '.join(ls)"
   ]
  },
  {
   "cell_type": "code",
   "execution_count": null,
   "metadata": {
    "collapsed": true
   },
   "outputs": [],
   "source": []
  }
 ],
 "metadata": {
  "kernelspec": {
   "display_name": "Python 2",
   "language": "python",
   "name": "python2"
  },
  "language_info": {
   "codemirror_mode": {
    "name": "ipython",
    "version": 2
   },
   "file_extension": ".py",
   "mimetype": "text/x-python",
   "name": "python",
   "nbconvert_exporter": "python",
   "pygments_lexer": "ipython2",
   "version": "2.7.10"
  }
 },
 "nbformat": 4,
 "nbformat_minor": 0
}
