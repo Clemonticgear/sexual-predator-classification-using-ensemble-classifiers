{
 "cells": [
  {
   "cell_type": "code",
   "execution_count": 11,
   "metadata": {
    "collapsed": false
   },
   "outputs": [],
   "source": [
    "from lxml import etree"
   ]
  },
  {
   "cell_type": "code",
   "execution_count": 12,
   "metadata": {
    "collapsed": true
   },
   "outputs": [],
   "source": [
    "pathToFile='../../dataset/pan12-sexual-predator-identification-training-corpus-2012-05-01.xml'"
   ]
  },
  {
   "cell_type": "code",
   "execution_count": 13,
   "metadata": {
    "collapsed": true
   },
   "outputs": [],
   "source": [
    "def extract_text_between_tags(node):\n",
    "    return \"\".join([x for x in node.itertext()])"
   ]
  },
  {
   "cell_type": "markdown",
   "metadata": {},
   "source": [
    "# Extract author text as dictionary"
   ]
  },
  {
   "cell_type": "markdown",
   "metadata": {},
   "source": [
    "Extract a dictionary with the Author as the <b>key</b> and all his texts in a list as <b>value</b>. The function takes parsed text (lxml)."
   ]
  },
  {
   "cell_type": "code",
   "execution_count": 14,
   "metadata": {
    "collapsed": false
   },
   "outputs": [],
   "source": [
    "def extract_author_text_dictionary_from_message_nodes(message_nodes):\n",
    "    author_text_dictionary = {}\n",
    "    for message_node in message_nodes:\n",
    "        text_node = message_node.xpath('./text')[0]\n",
    "        text = extract_text_between_tags(text_node)\n",
    "        \n",
    "        author_node = message_node.xpath('./author')[0]\n",
    "        author_id = extract_text_between_tags(author_node)\n",
    "        \n",
    "        author_text_dictionary.setdefault(author_id, []).append(text)\n",
    "        \n",
    "    return author_text_dictionary"
   ]
  },
  {
   "cell_type": "markdown",
   "metadata": {},
   "source": [
    "# Extract all authors in the XML text"
   ]
  },
  {
   "cell_type": "markdown",
   "metadata": {},
   "source": [
    "Extract all authors from parsed text (lxml)"
   ]
  },
  {
   "cell_type": "code",
   "execution_count": 15,
   "metadata": {
    "collapsed": true
   },
   "outputs": [],
   "source": [
    "def extract_authors_from_parsed_text(parsed_text):\n",
    "    author_nodes = parsed_text.xpath('/conversations/conversation/message/author')\n",
    "    unique_authors = set()\n",
    "    for author_node in author_nodes:\n",
    "        unique_authors.add(extract_text_between_tags(author_node))\n",
    "    return unique_authors"
   ]
  },
  {
   "cell_type": "code",
   "execution_count": 16,
   "metadata": {
    "collapsed": true
   },
   "outputs": [],
   "source": [
    "def extract_author_nodes_as_list_from_parsed_text(parsed_text):\n",
    "    return parsed_text.xpath('/conversations/conversation/message/author')"
   ]
  },
  {
   "cell_type": "code",
   "execution_count": 17,
   "metadata": {
    "collapsed": true
   },
   "outputs": [],
   "source": [
    "def extract_message_nodes_as_list_from_parsed_text(parsed_text):\n",
    "    return parsed_text.xpath('/conversations/conversation/message')"
   ]
  },
  {
   "cell_type": "code",
   "execution_count": 8,
   "metadata": {
    "collapsed": false
   },
   "outputs": [
    {
     "name": "stdout",
     "output_type": "stream",
     "text": [
      "97689\n"
     ]
    }
   ],
   "source": [
    "tree = etree.parse(pathToFile)\n",
    "authors = extract_authors_from_parsed_text(tree)\n",
    "print len(authors)\n",
    "\n",
    "#print authors"
   ]
  },
  {
   "cell_type": "code",
   "execution_count": 18,
   "metadata": {
    "collapsed": false
   },
   "outputs": [],
   "source": [
    "message_nodes = extract_message_nodes_as_list_from_parsed_text(tree)\n",
    "#print extract_author_text_dictionary_from_message_nodes(message_nodes)"
   ]
  },
  {
   "cell_type": "code",
   "execution_count": null,
   "metadata": {
    "collapsed": true
   },
   "outputs": [],
   "source": []
  }
 ],
 "metadata": {
  "kernelspec": {
   "display_name": "Python 2",
   "language": "python",
   "name": "python2"
  },
  "language_info": {
   "codemirror_mode": {
    "name": "ipython",
    "version": 2
   },
   "file_extension": ".py",
   "mimetype": "text/x-python",
   "name": "python",
   "nbconvert_exporter": "python",
   "pygments_lexer": "ipython2",
   "version": "2.7.11"
  }
 },
 "nbformat": 4,
 "nbformat_minor": 0
}
