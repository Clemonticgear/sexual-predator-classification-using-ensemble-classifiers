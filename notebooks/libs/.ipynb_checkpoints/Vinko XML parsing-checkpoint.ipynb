{
 "cells": [
  {
   "cell_type": "code",
   "execution_count": 1,
   "metadata": {
    "collapsed": false
   },
   "outputs": [],
   "source": [
    "from lxml import etree\n",
    "import FeatureExtraction as FE"
   ]
  },
  {
   "cell_type": "code",
   "execution_count": 2,
   "metadata": {
    "collapsed": true
   },
   "outputs": [],
   "source": [
    "pathToFile='../../dataset/training/pan12-sexual-predator-identification-training-corpus-2012-05-01.xml'"
   ]
  },
  {
   "cell_type": "code",
   "execution_count": 3,
   "metadata": {
    "collapsed": true
   },
   "outputs": [],
   "source": [
    "def extract_text_between_tags(node):\n",
    "    return \"\".join([x for x in node.itertext()])"
   ]
  },
  {
   "cell_type": "markdown",
   "metadata": {},
   "source": [
    "# Extract author text as dictionary"
   ]
  },
  {
   "cell_type": "markdown",
   "metadata": {},
   "source": [
    "Extract a dictionary with the Author as the <b>key</b> and all his texts in a list as <b>value</b>. The function takes parsed text (lxml)."
   ]
  },
  {
   "cell_type": "code",
   "execution_count": null,
   "metadata": {
    "collapsed": false
   },
   "outputs": [],
   "source": [
    "def extract_author_text_dictionary_from_message_nodes(message_nodes):\n",
    "    author_text_dictionary = {}\n",
    "    for message_node in message_nodes:\n",
    "        text_nodes = message_node.xpath('./text') \n",
    "        author_nodes = message_node.xpath('./author')\n",
    "        \n",
    "        for author_node, text_node in zip(author_nodes, text_nodes):\n",
    "            author_text_dictionary.setdefault(author_node.text, []).append(text_node.text)\n",
    "        \n",
    "    return author_text_dictionary"
   ]
  },
  {
   "cell_type": "code",
   "execution_count": null,
   "metadata": {
    "collapsed": true
   },
   "outputs": [],
   "source": [
    "def extract_author_conversation_node_dictionary_from_XML(xml):\n",
    "    conversation_nodes = extract_conversation_nodes_as_list_from_parsed_text(xml)\n",
    "    author_text_dictionary = {}\n",
    "    for conversation_node in conversation_nodes:\n",
    "        author_nodes = conversation_node.xpath('./message/author')\n",
    "        for author_node in author_nodes:\n",
    "            if conversation_node not in author_text_dictionary.get(author_node.text, []):\n",
    "                author_text_dictionary.setdefault(author_node.text, []).append(conversation_node)\n",
    "        \n",
    "    return author_text_dictionary"
   ]
  },
  {
   "cell_type": "markdown",
   "metadata": {},
   "source": [
    "# Extract all authors in the XML text"
   ]
  },
  {
   "cell_type": "markdown",
   "metadata": {},
   "source": [
    "Extract all authors from parsed text (lxml)"
   ]
  },
  {
   "cell_type": "code",
   "execution_count": null,
   "metadata": {
    "collapsed": true
   },
   "outputs": [],
   "source": [
    "def extract_authors_from_parsed_text(parsed_text):\n",
    "    author_nodes = parsed_text.xpath('/conversations/conversation/message/author')\n",
    "    unique_authors = set()\n",
    "    for author_node in author_nodes:\n",
    "        unique_authors.add(extract_text_between_tags(author_node))\n",
    "    return unique_authors"
   ]
  },
  {
   "cell_type": "code",
   "execution_count": null,
   "metadata": {
    "collapsed": true
   },
   "outputs": [],
   "source": [
    "def extract_author_nodes_as_list_from_parsed_text(parsed_text):\n",
    "    return parsed_text.xpath('/conversations/conversation/message/author')"
   ]
  },
  {
   "cell_type": "code",
   "execution_count": null,
   "metadata": {
    "collapsed": true
   },
   "outputs": [],
   "source": [
    "def extract_message_nodes_as_list_from_parsed_text(parsed_text):\n",
    "    return parsed_text.xpath('/conversations/conversation/message')"
   ]
  },
  {
   "cell_type": "code",
   "execution_count": null,
   "metadata": {
    "collapsed": true
   },
   "outputs": [],
   "source": [
    "def extract_conversation_nodes_as_list_from_parsed_text(parsed_text):\n",
    "    return parsed_text.xpath('/conversations/conversation')"
   ]
  },
  {
   "cell_type": "code",
   "execution_count": null,
   "metadata": {
    "collapsed": false
   },
   "outputs": [],
   "source": [
    "tree = etree.parse(pathToFile)\n",
    "authors = extract_authors_from_parsed_text(tree)\n",
    "print len(authors) \n",
    "\n",
    "#print authors"
   ]
  },
  {
   "cell_type": "code",
   "execution_count": null,
   "metadata": {
    "collapsed": false
   },
   "outputs": [],
   "source": [
    "message_nodes = extract_message_nodes_as_list_from_parsed_text(tree)\n",
    "#print extract_author_text_dictionary_from_message_nodes(message_nodes)\n",
    "#d = extract_author_conversation_node_dictionary_from_XML(tree)"
   ]
  },
  {
   "cell_type": "code",
   "execution_count": null,
   "metadata": {
    "collapsed": false
   },
   "outputs": [],
   "source": [
    "sexual_predator_ids_file = '../../dataset/training/pan12-sexual-predator-identification-training-corpus-predators-2012-05-01.txt'\n",
    "with open(sexual_predator_ids_file) as f:\n",
    "    lines = f.read().splitlines()\n",
    "\n",
    "#def sexual"
   ]
  },
  {
   "cell_type": "code",
   "execution_count": null,
   "metadata": {
    "collapsed": true
   },
   "outputs": [],
   "source": [
    "def number_of_messages_sent_by_the_author(author, conversation_nodes):\n",
    "    number_of_conversations_sent_by_the_author = 0\n",
    "    for conversation_node in conversation_nodes:\n",
    "        author_nodes = conversation_node.xpath(\"./message/author\")\n",
    "        for author_node in author_nodes:\n",
    "            number_of_conversations_sent_by_the_author += 1 if author_node.text == author else 0\n",
    "            \n",
    "    return number_of_conversations_sent_by_the_author"
   ]
  },
  {
   "cell_type": "code",
   "execution_count": 4,
   "metadata": {
    "collapsed": false
   },
   "outputs": [],
   "source": [
    "def create_csv(input_file_path, output_file_name, batch_size):\n",
    "    tree = etree.parse(input_file_path)\n",
    "    author_conversation_node_dictionary = FE.extract_author_conversation_node_dictionary_from_XML(tree)\n",
    "    del tree\n",
    "    \n",
    "    output_file_csv = open(output_file_name, 'w+')\n",
    "    output_string_list = ['autor', 'number of conversation', 'percent of conversations started by the author',\n",
    "                         'difference between two preceding lines[s]', 'number of messages sent',\n",
    "                         'average percent of lines in conversation']\n",
    "    output_string = ','.join(output_string_list) + \"\\n\"\n",
    "    \n",
    "    i = 0\n",
    "    for author, conversation_nodes in author_conversation_node_dictionary.iteritems():\n",
    "        output_list = [author,\n",
    "                       len(conversation_nodes),\n",
    "                       FE.average_trough_all_conversations(author, conversation_nodes, FE.is_starting_conversation),\n",
    "                       FE.average_trough_all_conversations(author, conversation_nodes, \n",
    "                                    FE.avg_time_between_message_lines_in_seconds_for_author_in_conversation),\n",
    "                       FE.number_of_messages_sent_by_the_author(author, conversation_nodes),\n",
    "                       FE.average_trough_all_conversations(author, conversation_nodes,\n",
    "                                                           FE.percentage_of_lines_in_conversation),\n",
    "\n",
    "                      ]\n",
    "        output_string += ','.join(map(str, output_list)) + '\\n'\n",
    "        if i == batch_size:\n",
    "            output_file_csv.write(output_string)\n",
    "            output_string = ''\n",
    "            i = -1\n",
    "            \n",
    "        i += 1\n",
    "        \n",
    "    del output_string\n",
    "    del author_conversation_node_dictionary\n",
    "    output_file_csv.close()"
   ]
  },
  {
   "cell_type": "code",
   "execution_count": 5,
   "metadata": {
    "collapsed": true
   },
   "outputs": [],
   "source": [
    "file_path = '../../dataset/training/pan12-sexual-predator-identification-training-corpus-2012-05-01.xml'"
   ]
  },
  {
   "cell_type": "code",
   "execution_count": 6,
   "metadata": {
    "collapsed": false
   },
   "outputs": [
    {
     "ename": "TypeError",
     "evalue": "sequence item 1: expected string, NoneType found",
     "output_type": "error",
     "traceback": [
      "\u001b[1;31m---------------------------------------------------------------------------\u001b[0m",
      "\u001b[1;31mTypeError\u001b[0m                                 Traceback (most recent call last)",
      "\u001b[1;32m<ipython-input-6-e0e2bcacb191>\u001b[0m in \u001b[0;36m<module>\u001b[1;34m()\u001b[0m\n\u001b[1;32m----> 1\u001b[1;33m \u001b[0mcreate_csv\u001b[0m\u001b[1;33m(\u001b[0m\u001b[0mfile_path\u001b[0m\u001b[1;33m,\u001b[0m \u001b[1;34m'chat_based_features_training.csv'\u001b[0m\u001b[1;33m,\u001b[0m \u001b[1;36m10000\u001b[0m\u001b[1;33m)\u001b[0m\u001b[1;33m\u001b[0m\u001b[0m\n\u001b[0m",
      "\u001b[1;32m<ipython-input-4-b110574ad63f>\u001b[0m in \u001b[0;36mcreate_csv\u001b[1;34m(input_file_path, output_file_name, batch_size)\u001b[0m\n\u001b[0;32m     19\u001b[0m                        \u001b[0mFE\u001b[0m\u001b[1;33m.\u001b[0m\u001b[0mnumber_of_messages_sent_by_the_author\u001b[0m\u001b[1;33m(\u001b[0m\u001b[0mauthor\u001b[0m\u001b[1;33m,\u001b[0m \u001b[0mconversation_nodes\u001b[0m\u001b[1;33m)\u001b[0m\u001b[1;33m,\u001b[0m\u001b[1;33m\u001b[0m\u001b[0m\n\u001b[0;32m     20\u001b[0m                        FE.average_trough_all_conversations(author, conversation_nodes,\n\u001b[1;32m---> 21\u001b[1;33m                                                            FE.percentage_of_characters_in_conversation),\n\u001b[0m\u001b[0;32m     22\u001b[0m                        FE.average_trough_all_conversations(author, conversation_nodes,\n\u001b[0;32m     23\u001b[0m                                                            FE.percentage_of_lines_in_conversation),\n",
      "\u001b[1;32m/run/media/weenkus/Behemoth/Programming/Workspace/Projects/NLP/notebooks/libs/FeatureExtraction.py\u001b[0m in \u001b[0;36maverage_trough_all_conversations\u001b[1;34m(author_id, conversations, funct)\u001b[0m\n\u001b[0;32m    158\u001b[0m \u001b[1;31m# avg_time_between_message_lines_in_seconds_for_author_in_conversation\u001b[0m\u001b[1;33m\u001b[0m\u001b[1;33m\u001b[0m\u001b[0m\n\u001b[0;32m    159\u001b[0m \u001b[1;32mdef\u001b[0m \u001b[0maverage_trough_all_conversations\u001b[0m\u001b[1;33m(\u001b[0m\u001b[0mauthor_id\u001b[0m\u001b[1;33m,\u001b[0m \u001b[0mconversations\u001b[0m\u001b[1;33m,\u001b[0m \u001b[0mfunct\u001b[0m\u001b[1;33m)\u001b[0m\u001b[1;33m:\u001b[0m\u001b[1;33m\u001b[0m\u001b[0m\n\u001b[1;32m--> 160\u001b[1;33m     \u001b[0mresults\u001b[0m\u001b[1;33m=\u001b[0m\u001b[1;33m[\u001b[0m\u001b[0mfunct\u001b[0m\u001b[1;33m(\u001b[0m\u001b[0mc\u001b[0m\u001b[1;33m,\u001b[0m\u001b[0mauthor_id\u001b[0m\u001b[1;33m)\u001b[0m \u001b[1;32mfor\u001b[0m \u001b[0mc\u001b[0m \u001b[1;32min\u001b[0m \u001b[0mconversations\u001b[0m\u001b[1;33m]\u001b[0m\u001b[1;33m\u001b[0m\u001b[0m\n\u001b[0m\u001b[0;32m    161\u001b[0m     \u001b[1;32mreturn\u001b[0m \u001b[0msum\u001b[0m\u001b[1;33m(\u001b[0m\u001b[0mresults\u001b[0m\u001b[1;33m)\u001b[0m\u001b[1;33m*\u001b[0m\u001b[1;36m1.0\u001b[0m\u001b[1;33m/\u001b[0m\u001b[0mlen\u001b[0m\u001b[1;33m(\u001b[0m\u001b[0mresults\u001b[0m\u001b[1;33m)\u001b[0m\u001b[1;33m\u001b[0m\u001b[0m\n\u001b[0;32m    162\u001b[0m \u001b[1;33m\u001b[0m\u001b[0m\n",
      "\u001b[1;32m/run/media/weenkus/Behemoth/Programming/Workspace/Projects/NLP/notebooks/libs/FeatureExtraction.py\u001b[0m in \u001b[0;36mpercentage_of_characters_in_conversation\u001b[1;34m(conversation, author_id)\u001b[0m\n\u001b[0;32m    138\u001b[0m \u001b[1;32mdef\u001b[0m \u001b[0mpercentage_of_characters_in_conversation\u001b[0m\u001b[1;33m(\u001b[0m\u001b[0mconversation\u001b[0m\u001b[1;33m,\u001b[0m\u001b[0mauthor_id\u001b[0m\u001b[1;33m)\u001b[0m\u001b[1;33m:\u001b[0m\u001b[1;33m\u001b[0m\u001b[0m\n\u001b[0;32m    139\u001b[0m     \u001b[0mauthors_chars\u001b[0m\u001b[1;33m=\u001b[0m\u001b[1;34m''\u001b[0m\u001b[1;33m.\u001b[0m\u001b[0mjoin\u001b[0m\u001b[1;33m(\u001b[0m\u001b[0mfilter\u001b[0m\u001b[1;33m(\u001b[0m\u001b[0mNone\u001b[0m\u001b[1;33m,\u001b[0m \u001b[0mmessage_texts_of_author_in_conversation\u001b[0m\u001b[1;33m(\u001b[0m\u001b[0mconversation\u001b[0m\u001b[1;33m,\u001b[0m\u001b[0mauthor_id\u001b[0m\u001b[1;33m)\u001b[0m\u001b[1;33m)\u001b[0m\u001b[1;33m)\u001b[0m\u001b[1;33m\u001b[0m\u001b[0m\n\u001b[1;32m--> 140\u001b[1;33m     \u001b[0mall_chats\u001b[0m\u001b[1;33m=\u001b[0m\u001b[1;34m''\u001b[0m\u001b[1;33m.\u001b[0m\u001b[0mjoin\u001b[0m\u001b[1;33m(\u001b[0m\u001b[0mmessage_texts_in_conversation\u001b[0m\u001b[1;33m(\u001b[0m\u001b[0mconversation\u001b[0m\u001b[1;33m)\u001b[0m\u001b[1;33m)\u001b[0m\u001b[1;33m\u001b[0m\u001b[0m\n\u001b[0m\u001b[0;32m    141\u001b[0m     \u001b[1;32mreturn\u001b[0m \u001b[0mlen\u001b[0m\u001b[1;33m(\u001b[0m\u001b[0mauthors_chars\u001b[0m\u001b[1;33m)\u001b[0m\u001b[1;33m*\u001b[0m\u001b[1;36m1.0\u001b[0m\u001b[1;33m/\u001b[0m\u001b[0mlen\u001b[0m\u001b[1;33m(\u001b[0m\u001b[0mall_chats\u001b[0m\u001b[1;33m)\u001b[0m\u001b[1;33m\u001b[0m\u001b[0m\n\u001b[0;32m    142\u001b[0m \u001b[1;33m\u001b[0m\u001b[0m\n",
      "\u001b[1;31mTypeError\u001b[0m: sequence item 1: expected string, NoneType found"
     ]
    }
   ],
   "source": [
    "create_csv(file_path, 'chat_based_features_training.csv', 10000)"
   ]
  },
  {
   "cell_type": "code",
   "execution_count": null,
   "metadata": {
    "collapsed": true
   },
   "outputs": [],
   "source": []
  },
  {
   "cell_type": "code",
   "execution_count": null,
   "metadata": {
    "collapsed": true
   },
   "outputs": [],
   "source": []
  }
 ],
 "metadata": {
  "kernelspec": {
   "display_name": "Python 2",
   "language": "python",
   "name": "python2"
  },
  "language_info": {
   "codemirror_mode": {
    "name": "ipython",
    "version": 2
   },
   "file_extension": ".py",
   "mimetype": "text/x-python",
   "name": "python",
   "nbconvert_exporter": "python",
   "pygments_lexer": "ipython2",
   "version": "2.7.11"
  }
 },
 "nbformat": 4,
 "nbformat_minor": 0
}
