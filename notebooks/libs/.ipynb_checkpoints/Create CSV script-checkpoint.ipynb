{
 "cells": [
  {
   "cell_type": "code",
   "execution_count": null,
   "metadata": {
    "collapsed": true
   },
   "outputs": [],
   "source": [
    "from lxml import etree\n",
    "import FeatureExtraction as FE\n",
    "import numpy"
   ]
  },
  {
   "cell_type": "code",
   "execution_count": 1,
   "metadata": {
    "collapsed": false
   },
   "outputs": [],
   "source": [
    "sexual_predator_ids_file = '../dataset/training/pan12-sexual-predator-identification-training-corpus-predators-2012-05-01.txt'"
   ]
  },
  {
   "cell_type": "code",
   "execution_count": 3,
   "metadata": {
    "collapsed": true
   },
   "outputs": [],
   "source": [
    "def extract_text_between_tags(node):\n",
    "    return \"\".join([x for x in node.itertext()])"
   ]
  },
  {
   "cell_type": "code",
   "execution_count": 14,
   "metadata": {
    "collapsed": false
   },
   "outputs": [],
   "source": [
    "def create_csv(input_file_path, output_file_name, batch_size):\n",
    "    tree = etree.parse(input_file_path)\n",
    "    author_conversation_node_dictionary = FE.extract_author_conversation_node_dictionary_from_XML(tree)\n",
    "    del tree\n",
    "    \n",
    "    output_file_csv = open(output_file_name, 'w+')\n",
    "    output_string_list = ['autor', 'number of conversation', 'percent of conversations started by the author',\n",
    "                         'difference between two preceding lines[s]', 'number of messages sent',\n",
    "                         'average percent of lines in conversation', 'average percent of characters in conversation',\n",
    "                         'number of characters sent by the author', 'mean time of messages sent',\n",
    "                         'is sexual predator']\n",
    "    output_string = ','.join(output_string_list) + \"\\n\"\n",
    "    \n",
    "    sexual_predator_ids_list = FE.sexual_predator_ids(sexual_predator_ids_file)\n",
    "    \n",
    "    i = 0\n",
    "    for author, conversation_nodes in author_conversation_node_dictionary.iteritems():\n",
    "        output_list = [author,\n",
    "                       len(conversation_nodes),\n",
    "                       FE.average_trough_all_conversations(author, conversation_nodes, FE.is_starting_conversation),\n",
    "                       FE.average_trough_all_conversations(author, conversation_nodes, \n",
    "                                    FE.avg_time_between_message_lines_in_seconds_for_author_in_conversation),\n",
    "                       FE.number_of_messages_sent_by_the_author(author, conversation_nodes),\n",
    "                       FE.average_trough_all_conversations(author, conversation_nodes,\n",
    "                                                           FE.percentage_of_lines_in_conversation),\n",
    "                       FE.average_trough_all_conversations(author, conversation_nodes,\n",
    "                                                           FE.percentage_of_characters_in_conversation),\n",
    "                       FE.number_of_characters_sent_by_the_author(author, conversation_nodes),\n",
    "                       FE.mean_time_of_messages_sent(author, conversation_nodes),\n",
    "                       '1' if author in sexual_predator_ids_list else '0'\n",
    "                      ]\n",
    "        output_string += ','.join(map(str, output_list)) + '\\n'\n",
    "        if i == batch_size:\n",
    "            output_file_csv.write(output_string)\n",
    "            output_string = ''\n",
    "            i = -1\n",
    "            \n",
    "        i += 1\n",
    "        \n",
    "    del output_string\n",
    "    del author_conversation_node_dictionary\n",
    "    output_file_csv.close()"
   ]
  },
  {
   "cell_type": "code",
   "execution_count": 15,
   "metadata": {
    "collapsed": true
   },
   "outputs": [],
   "source": [
    "file_path = '../../dataset/training/pan12-sexual-predator-identification-training-corpus-2012-05-01.xml'\n",
    "pathToFile='../../dataset/training/pan12-sexual-predator-identification-training-corpus-2012-05-01.xml'"
   ]
  },
  {
   "cell_type": "code",
   "execution_count": 16,
   "metadata": {
    "collapsed": false
   },
   "outputs": [
    {
     "ename": "NameError",
     "evalue": "global name 'sexual_predator_ids_file' is not defined",
     "output_type": "error",
     "traceback": [
      "\u001b[1;31m---------------------------------------------------------------------------\u001b[0m",
      "\u001b[1;31mNameError\u001b[0m                                 Traceback (most recent call last)",
      "\u001b[1;32m<ipython-input-16-0dbf5044c67a>\u001b[0m in \u001b[0;36m<module>\u001b[1;34m()\u001b[0m\n\u001b[1;32m----> 1\u001b[1;33m \u001b[0mcreate_csv\u001b[0m\u001b[1;33m(\u001b[0m\u001b[0mfile_path\u001b[0m\u001b[1;33m,\u001b[0m \u001b[1;34m'../../csv/chat_based_features_training.csv'\u001b[0m\u001b[1;33m,\u001b[0m \u001b[1;36m10000\u001b[0m\u001b[1;33m)\u001b[0m\u001b[1;33m\u001b[0m\u001b[0m\n\u001b[0m",
      "\u001b[1;32m<ipython-input-14-2c6aa1f3bf3c>\u001b[0m in \u001b[0;36mcreate_csv\u001b[1;34m(input_file_path, output_file_name, batch_size)\u001b[0m\n\u001b[0;32m     12\u001b[0m     \u001b[0moutput_string\u001b[0m \u001b[1;33m=\u001b[0m \u001b[1;34m','\u001b[0m\u001b[1;33m.\u001b[0m\u001b[0mjoin\u001b[0m\u001b[1;33m(\u001b[0m\u001b[0moutput_string_list\u001b[0m\u001b[1;33m)\u001b[0m \u001b[1;33m+\u001b[0m \u001b[1;34m\"\\n\"\u001b[0m\u001b[1;33m\u001b[0m\u001b[0m\n\u001b[0;32m     13\u001b[0m \u001b[1;33m\u001b[0m\u001b[0m\n\u001b[1;32m---> 14\u001b[1;33m     \u001b[0msexual_predator_ids_list\u001b[0m \u001b[1;33m=\u001b[0m \u001b[0mFE\u001b[0m\u001b[1;33m.\u001b[0m\u001b[0msexual_predator_ids\u001b[0m\u001b[1;33m(\u001b[0m\u001b[0msexual_predator_ids_file\u001b[0m\u001b[1;33m)\u001b[0m\u001b[1;33m\u001b[0m\u001b[0m\n\u001b[0m\u001b[0;32m     15\u001b[0m \u001b[1;33m\u001b[0m\u001b[0m\n\u001b[0;32m     16\u001b[0m     \u001b[0mi\u001b[0m \u001b[1;33m=\u001b[0m \u001b[1;36m0\u001b[0m\u001b[1;33m\u001b[0m\u001b[0m\n",
      "\u001b[1;31mNameError\u001b[0m: global name 'sexual_predator_ids_file' is not defined"
     ]
    }
   ],
   "source": [
    "create_csv(file_path, '../../csv/chat_based_features_training.csv', 10000)"
   ]
  },
  {
   "cell_type": "code",
   "execution_count": null,
   "metadata": {
    "collapsed": true
   },
   "outputs": [],
   "source": []
  },
  {
   "cell_type": "code",
   "execution_count": null,
   "metadata": {
    "collapsed": false
   },
   "outputs": [],
   "source": []
  },
  {
   "cell_type": "code",
   "execution_count": null,
   "metadata": {
    "collapsed": true
   },
   "outputs": [],
   "source": []
  }
 ],
 "metadata": {
  "kernelspec": {
   "display_name": "Python 2",
   "language": "python",
   "name": "python2"
  },
  "language_info": {
   "codemirror_mode": {
    "name": "ipython",
    "version": 2
   },
   "file_extension": ".py",
   "mimetype": "text/x-python",
   "name": "python",
   "nbconvert_exporter": "python",
   "pygments_lexer": "ipython2",
   "version": "2.7.11"
  }
 },
 "nbformat": 4,
 "nbformat_minor": 0
}
