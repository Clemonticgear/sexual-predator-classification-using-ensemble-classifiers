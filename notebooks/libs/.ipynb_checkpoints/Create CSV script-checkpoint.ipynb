{
 "cells": [
  {
   "cell_type": "code",
   "execution_count": 25,
   "metadata": {
    "collapsed": true
   },
   "outputs": [],
   "source": [
    "from lxml import etree\n",
    "import FeatureExtraction as FE\n",
    "import numpy"
   ]
  },
  {
   "cell_type": "code",
   "execution_count": 26,
   "metadata": {
    "collapsed": false
   },
   "outputs": [],
   "source": [
    "sexual_predator_ids_file = '../../dataset/training/pan12-sexual-predator-identification-training-corpus-predators-2012-05-01.txt'"
   ]
  },
  {
   "cell_type": "code",
   "execution_count": 55,
   "metadata": {
    "collapsed": false
   },
   "outputs": [],
   "source": [
    "def create_csv(input_file_path, output_file_name, batch_size):\n",
    "    tree = etree.parse(input_file_path)\n",
    "    author_conversation_node_dictionary = FE.extract_author_conversation_node_dictionary_from_XML(tree)\n",
    "    del tree\n",
    "    \n",
    "    output_file_csv = open(output_file_name, 'w+')\n",
    "    output_string_list = ['autor', 'number of conversation', 'percent of conversations started by the author',\n",
    "                         'difference between two preceding lines[s]', 'number of messages sent',\n",
    "                         'average percent of lines in conversation', 'average percent of characters in conversation',\n",
    "                         'number of characters sent by the author', 'mean time of messages sent',\n",
    "                         'number of unique contacted authors', 'avg number of unique authors interacted with per conversation',\n",
    "                         'total unique authors and unique per chat difference',\n",
    "                         'conversation num and total unique authors difference',\n",
    "                         'average question marks per conversations', 'total question marks', 'is sexual predator']\n",
    "    output_string = ','.join(output_string_list) + \"\\n\"\n",
    "    \n",
    "    sexual_predator_ids_list = FE.sexual_predator_ids(sexual_predator_ids_file)\n",
    "    \n",
    "    i = 0\n",
    "    for author in sorted(author_conversation_node_dictionary):\n",
    "        conversation_nodes = author_conversation_node_dictionary[author]\n",
    "        output_list = [author,\n",
    "                       len(conversation_nodes),\n",
    "                       FE.average_trough_all_conversations(author, conversation_nodes, FE.is_starting_conversation),\n",
    "                       FE.average_trough_all_conversations(author, conversation_nodes, \n",
    "                                    FE.avg_time_between_message_lines_in_seconds_for_author_in_conversation),\n",
    "                       FE.number_of_messages_sent_by_the_author(author, conversation_nodes),\n",
    "                       FE.average_trough_all_conversations(author, conversation_nodes,\n",
    "                                                           FE.percentage_of_lines_in_conversation),\n",
    "                       FE.average_trough_all_conversations(author, conversation_nodes,\n",
    "                                                           FE.percentage_of_characters_in_conversation),\n",
    "                       FE.number_of_characters_sent_by_the_author(author, conversation_nodes),\n",
    "                       FE.mean_time_of_messages_sent(author, conversation_nodes),\n",
    "                       FE.number_of_unique_authors_interacted_with(author, conversation_nodes),\n",
    "                       FE.avg_number_of_unique_authors_interacted_with_per_chat(author, conversation_nodes),\n",
    "                       FE.difference_unique_authors_per_chat_and_total_unique(\n",
    "                           FE.number_of_unique_authors_interacted_with(author, conversation_nodes),\n",
    "                           FE.avg_number_of_unique_authors_interacted_with_per_chat(author, conversation_nodes),\n",
    "                       ),\n",
    "                       FE.difference_unique_authors_and_conversations(\n",
    "                           FE.number_of_unique_authors_interacted_with(author, conversation_nodes),\n",
    "                           len(conversation_nodes)\n",
    "                        ),\n",
    "                       FE.avg_question_marks_per_conversation(author, conversation_nodes),\n",
    "                       FE.total_question_marks_per_conversation(author, conversation_nodes),\n",
    "                       '1' if author in sexual_predator_ids_list else '0'\n",
    "                      ]\n",
    "        output_string += ','.join(map(str, output_list)) + '\\n'\n",
    "        if i == batch_size:\n",
    "            output_file_csv.write(output_string)\n",
    "            output_string = ''\n",
    "            i = -1\n",
    "            \n",
    "        i += 1\n",
    "        \n",
    "    output_file_csv.write(output_string)    \n",
    "    del output_string\n",
    "    del author_conversation_node_dictionary\n",
    "    output_file_csv.close()"
   ]
  },
  {
   "cell_type": "code",
   "execution_count": 56,
   "metadata": {
    "collapsed": false
   },
   "outputs": [],
   "source": [
    "file_path='../../dataset/training/pan12-sexual-predator-identification-training-corpus-2012-05-01.xml'"
   ]
  },
  {
   "cell_type": "code",
   "execution_count": null,
   "metadata": {
    "collapsed": false
   },
   "outputs": [],
   "source": [
    "create_csv(file_path, '../../csv/chat_based_features_training.csv', 1000)"
   ]
  },
  {
   "cell_type": "code",
   "execution_count": 58,
   "metadata": {
    "collapsed": true
   },
   "outputs": [],
   "source": [
    "def number_of_unique_authors_interacted_with(author, conversation_nodes):\n",
    "    author_ids = set()\n",
    "    for conversation_node in conversation_nodes:\n",
    "        authors = conversation_node.xpath('.//message//author')\n",
    "        author_ids |= set([author.text for author in authors])\n",
    "        \n",
    "    return len(author_ids) "
   ]
  },
  {
   "cell_type": "code",
   "execution_count": 59,
   "metadata": {
    "collapsed": false
   },
   "outputs": [],
   "source": [
    "def avg_number_of_unique_authors_interacted_with_per_chat(author, conversation_nodes):\n",
    "    avg_per_chat = []\n",
    "    for conversation_node in conversation_nodes:\n",
    "        authors = conversation_node.xpath('.//message//author')\n",
    "        avg_per_chat.append(len(set([author.text for author in authors])))\n",
    "        \n",
    "    return sum(avg_per_chat)/len(conversation_nodes)"
   ]
  },
  {
   "cell_type": "code",
   "execution_count": 60,
   "metadata": {
    "collapsed": true
   },
   "outputs": [],
   "source": [
    "def difference_unique_authors_per_chat_and_total_unique(uniq_per_chat, total_unique):\n",
    "    return abs(uniq_per_chat - total_unique)"
   ]
  },
  {
   "cell_type": "code",
   "execution_count": 61,
   "metadata": {
    "collapsed": true
   },
   "outputs": [],
   "source": [
    "def difference_unique_authors_and_conversations(total_unique, number_conversatio):\n",
    "    return abs(total_unique - number_conversatio)"
   ]
  },
  {
   "cell_type": "code",
   "execution_count": 76,
   "metadata": {
    "collapsed": false
   },
   "outputs": [],
   "source": [
    "def avg_question_marks_per_conversation(author, conversation_nodes):\n",
    "    num_of_question_marks = []\n",
    "    for conversation_node in conversation_nodes:\n",
    "        count = 0\n",
    "        \n",
    "        if len(conversation_node.xpath('.//message//text')) == 0:\n",
    "            continue\n",
    "        \n",
    "        for message in FE.message_texts_in_conversation(conversation_node):\n",
    "            if message is not None and '?' in message:\n",
    "                count += 1\n",
    "                \n",
    "        num_of_question_marks.append(count)\n",
    "        \n",
    "    return sum(num_of_question_marks)/len(conversation_nodes)"
   ]
  },
  {
   "cell_type": "code",
   "execution_count": 77,
   "metadata": {
    "collapsed": false
   },
   "outputs": [],
   "source": [
    "def total_question_marks_per_conversation(author, conversation_nodes):\n",
    "    count = 0\n",
    "    for conversation_node in conversation_nodes:\n",
    "        \n",
    "        if len(conversation_node.xpath('.//message//text')) == 0:\n",
    "            continue\n",
    "        \n",
    "        for message in FE.message_texts_in_conversation(conversation_node):\n",
    "            if message is not None and '?' in message:\n",
    "                count += 1\n",
    "        \n",
    "    return count"
   ]
  },
  {
   "cell_type": "code",
   "execution_count": null,
   "metadata": {
    "collapsed": true
   },
   "outputs": [],
   "source": []
  }
 ],
 "metadata": {
  "kernelspec": {
   "display_name": "Python 2",
   "language": "python",
   "name": "python2"
  },
  "language_info": {
   "codemirror_mode": {
    "name": "ipython",
    "version": 2
   },
   "file_extension": ".py",
   "mimetype": "text/x-python",
   "name": "python",
   "nbconvert_exporter": "python",
   "pygments_lexer": "ipython2",
   "version": "2.7.11"
  }
 },
 "nbformat": 4,
 "nbformat_minor": 0
}
