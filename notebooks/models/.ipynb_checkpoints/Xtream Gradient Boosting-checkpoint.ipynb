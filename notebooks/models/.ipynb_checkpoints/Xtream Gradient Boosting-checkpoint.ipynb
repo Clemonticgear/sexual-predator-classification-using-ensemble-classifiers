{
 "cells": [
  {
   "cell_type": "code",
   "execution_count": 1,
   "metadata": {
    "collapsed": true
   },
   "outputs": [],
   "source": [
    "import pandas as pd\n",
    "import numpy as np\n",
    "import itertools\n",
    "import sklearn.metrics as met\n",
    "import xgboost as xgb"
   ]
  },
  {
   "cell_type": "code",
   "execution_count": 2,
   "metadata": {
    "collapsed": true
   },
   "outputs": [],
   "source": [
    "training = pd.read_csv('../../csv/chat_based_features_training.csv')\n",
    "test = pd.read_csv('../../csv/chat_based_features_test.csv')"
   ]
  },
  {
   "cell_type": "code",
   "execution_count": 3,
   "metadata": {
    "collapsed": false
   },
   "outputs": [
    {
     "name": "stdout",
     "output_type": "stream",
     "text": [
      "['number of conversation', 'percent of conversations started by the author', 'difference between two preceding lines[s]', 'number of messages sent', 'average percent of lines in conversation', 'average percent of characters in conversation', 'number of characters sent by the author', 'mean time of messages sent']\n"
     ]
    }
   ],
   "source": [
    "column_names = training.columns.values.tolist()[1:-1]\n",
    "print column_names"
   ]
  },
  {
   "cell_type": "code",
   "execution_count": 4,
   "metadata": {
    "collapsed": false
   },
   "outputs": [
    {
     "data": {
      "text/html": [
       "<div>\n",
       "<table border=\"1\" class=\"dataframe\">\n",
       "  <thead>\n",
       "    <tr style=\"text-align: right;\">\n",
       "      <th></th>\n",
       "      <th>autor</th>\n",
       "      <th>number of conversation</th>\n",
       "      <th>percent of conversations started by the author</th>\n",
       "      <th>difference between two preceding lines[s]</th>\n",
       "      <th>number of messages sent</th>\n",
       "      <th>average percent of lines in conversation</th>\n",
       "      <th>average percent of characters in conversation</th>\n",
       "      <th>number of characters sent by the author</th>\n",
       "      <th>mean time of messages sent</th>\n",
       "      <th>is sexual predator</th>\n",
       "    </tr>\n",
       "  </thead>\n",
       "  <tbody>\n",
       "    <tr>\n",
       "      <th>90004</th>\n",
       "      <td>1892883f0abcc6a4ba158fc745aa8538</td>\n",
       "      <td>1</td>\n",
       "      <td>0.000000</td>\n",
       "      <td>0.000000</td>\n",
       "      <td>4</td>\n",
       "      <td>0.800000</td>\n",
       "      <td>0.884615</td>\n",
       "      <td>23</td>\n",
       "      <td>68640</td>\n",
       "      <td>0</td>\n",
       "    </tr>\n",
       "    <tr>\n",
       "      <th>90005</th>\n",
       "      <td>ab7ced9657817b971afb5e21da60a35d</td>\n",
       "      <td>1</td>\n",
       "      <td>0.000000</td>\n",
       "      <td>0.000000</td>\n",
       "      <td>1</td>\n",
       "      <td>0.250000</td>\n",
       "      <td>0.588235</td>\n",
       "      <td>50</td>\n",
       "      <td>82320</td>\n",
       "      <td>0</td>\n",
       "    </tr>\n",
       "    <tr>\n",
       "      <th>90006</th>\n",
       "      <td>39bb57ea865ba830ce16c0117e4f19ee</td>\n",
       "      <td>1</td>\n",
       "      <td>0.000000</td>\n",
       "      <td>60.000000</td>\n",
       "      <td>2</td>\n",
       "      <td>0.500000</td>\n",
       "      <td>0.818182</td>\n",
       "      <td>27</td>\n",
       "      <td>78060</td>\n",
       "      <td>0</td>\n",
       "    </tr>\n",
       "    <tr>\n",
       "      <th>90007</th>\n",
       "      <td>bc724681935f49bbcd8156cfb716d7ce</td>\n",
       "      <td>3</td>\n",
       "      <td>0.666667</td>\n",
       "      <td>234.333333</td>\n",
       "      <td>53</td>\n",
       "      <td>0.490718</td>\n",
       "      <td>0.463103</td>\n",
       "      <td>1194</td>\n",
       "      <td>82620</td>\n",
       "      <td>0</td>\n",
       "    </tr>\n",
       "    <tr>\n",
       "      <th>90008</th>\n",
       "      <td>fa622ac35fec508c9dcbd336885b18a0</td>\n",
       "      <td>1</td>\n",
       "      <td>0.000000</td>\n",
       "      <td>0.000000</td>\n",
       "      <td>2</td>\n",
       "      <td>0.400000</td>\n",
       "      <td>0.384615</td>\n",
       "      <td>5</td>\n",
       "      <td>1140</td>\n",
       "      <td>0</td>\n",
       "    </tr>\n",
       "  </tbody>\n",
       "</table>\n",
       "</div>"
      ],
      "text/plain": [
       "                                  autor  number of conversation  \\\n",
       "90004  1892883f0abcc6a4ba158fc745aa8538                       1   \n",
       "90005  ab7ced9657817b971afb5e21da60a35d                       1   \n",
       "90006  39bb57ea865ba830ce16c0117e4f19ee                       1   \n",
       "90007  bc724681935f49bbcd8156cfb716d7ce                       3   \n",
       "90008  fa622ac35fec508c9dcbd336885b18a0                       1   \n",
       "\n",
       "       percent of conversations started by the author  \\\n",
       "90004                                        0.000000   \n",
       "90005                                        0.000000   \n",
       "90006                                        0.000000   \n",
       "90007                                        0.666667   \n",
       "90008                                        0.000000   \n",
       "\n",
       "       difference between two preceding lines[s]  number of messages sent  \\\n",
       "90004                                   0.000000                        4   \n",
       "90005                                   0.000000                        1   \n",
       "90006                                  60.000000                        2   \n",
       "90007                                 234.333333                       53   \n",
       "90008                                   0.000000                        2   \n",
       "\n",
       "       average percent of lines in conversation  \\\n",
       "90004                                  0.800000   \n",
       "90005                                  0.250000   \n",
       "90006                                  0.500000   \n",
       "90007                                  0.490718   \n",
       "90008                                  0.400000   \n",
       "\n",
       "       average percent of characters in conversation  \\\n",
       "90004                                       0.884615   \n",
       "90005                                       0.588235   \n",
       "90006                                       0.818182   \n",
       "90007                                       0.463103   \n",
       "90008                                       0.384615   \n",
       "\n",
       "       number of characters sent by the author  mean time of messages sent  \\\n",
       "90004                                       23                       68640   \n",
       "90005                                       50                       82320   \n",
       "90006                                       27                       78060   \n",
       "90007                                     1194                       82620   \n",
       "90008                                        5                        1140   \n",
       "\n",
       "       is sexual predator  \n",
       "90004                   0  \n",
       "90005                   0  \n",
       "90006                   0  \n",
       "90007                   0  \n",
       "90008                   0  "
      ]
     },
     "execution_count": 4,
     "metadata": {},
     "output_type": "execute_result"
    }
   ],
   "source": [
    "training.tail()"
   ]
  },
  {
   "cell_type": "code",
   "execution_count": 9,
   "metadata": {
    "collapsed": false
   },
   "outputs": [],
   "source": [
    "# Remove scale_post_weight -> smaller F1 score, lower recall but increase precision\n",
    "# Remove gama for bigger precision\n",
    "sex_offender0 = xgb.XGBClassifier(max_depth=25, n_estimators=300, learning_rate=0.007, scale_pos_weight=5, gamma=7)\n",
    "sex_offender1 = xgb.XGBClassifier(max_depth=25, n_estimators=300)\n",
    "sex_offender0 = xgb.XGBClassifier(max_depth=5, n_estimators=220, learning_rate=0.007, scale_pos_weight=20, gamma=2)"
   ]
  },
  {
   "cell_type": "code",
   "execution_count": 10,
   "metadata": {
    "collapsed": false
   },
   "outputs": [
    {
     "name": "stderr",
     "output_type": "stream",
     "text": [
      "/home/weenkus/anaconda3/envs/py27/lib/python2.7/site-packages/sklearn/preprocessing/label.py:108: DataConversionWarning: A column-vector y was passed when a 1d array was expected. Please change the shape of y to (n_samples, ), for example using ravel().\n",
      "  y = column_or_1d(y, warn=True)\n"
     ]
    },
    {
     "data": {
      "text/plain": [
       "XGBClassifier(base_score=0.5, colsample_bylevel=1, colsample_bytree=1,\n",
       "       gamma=7, learning_rate=0.007, max_delta_step=0, max_depth=25,\n",
       "       min_child_weight=1, missing=None, n_estimators=300, nthread=-1,\n",
       "       objective='binary:logistic', reg_alpha=0, reg_lambda=1,\n",
       "       scale_pos_weight=5, seed=0, silent=True, subsample=1)"
      ]
     },
     "execution_count": 10,
     "metadata": {},
     "output_type": "execute_result"
    }
   ],
   "source": [
    "sex_offender0.fit(training[['number of conversation', 'percent of conversations started by the author', 'number of messages sent', 'average percent of lines in conversation', 'number of characters sent by the author']], training.iloc[:,[9]])"
   ]
  },
  {
   "cell_type": "code",
   "execution_count": 11,
   "metadata": {
    "collapsed": false
   },
   "outputs": [],
   "source": [
    "prediction = sex_offender0.predict(test[['number of conversation', 'percent of conversations started by the author', 'number of messages sent', 'average percent of lines in conversation', 'number of characters sent by the author']])"
   ]
  },
  {
   "cell_type": "code",
   "execution_count": 12,
   "metadata": {
    "collapsed": false
   },
   "outputs": [
    {
     "name": "stdout",
     "output_type": "stream",
     "text": [
      "Accuracy:  0.998957247132\n",
      "Precision:  0.550561797753\n",
      "Recall: 0.59756097561\n",
      "F1: 0.573099415205\n"
     ]
    }
   ],
   "source": [
    "print 'Accuracy: ', met.accuracy_score(test[['is sexual predator']], prediction) \n",
    "print 'Precision: ', met.precision_score(test[['is sexual predator']], prediction)\n",
    "print 'Recall:', met.recall_score(test[['is sexual predator']], prediction)\n",
    "print 'F1:', met.f1_score(test[['is sexual predator']], prediction)"
   ]
  },
  {
   "cell_type": "code",
   "execution_count": 13,
   "metadata": {
    "collapsed": false
   },
   "outputs": [
    {
     "name": "stdout",
     "output_type": "stream",
     "text": [
      "[0 0 0 ..., 0 0 0]\n"
     ]
    }
   ],
   "source": [
    "print prediction"
   ]
  },
  {
   "cell_type": "code",
   "execution_count": null,
   "metadata": {
    "collapsed": true
   },
   "outputs": [],
   "source": [
    "forest = RandomForestClassifier(n_estimators = 100)\n",
    "\n",
    "max_f1 = 0\n",
    "best_features = []\n",
    "\n",
    "for num_features in range(2, len(column_names)-1):\n",
    "    for column_name_subset in itertools.combinations(column_names, num_features):\n",
    "\n",
    "        forest = forest.fit(training[list(column_name_subset)], np.ravel(training.iloc[:,[9]]))\n",
    "        prediction = forest.predict(test[list(column_name_subset)])\n",
    "\n",
    "        print column_name_subset\n",
    "        print 'Accuracy: ', met.accuracy_score(test[['is sexual predator']], prediction) \n",
    "        print 'Precision: ', met.precision_score(test[['is sexual predator']], prediction)\n",
    "        print 'Recall:', met.recall_score(test[['is sexual predator']], prediction)\n",
    "        print 'F1:', met.f1_score(test[['is sexual predator']], prediction)\n",
    "        print \"\\n\\n\"\n",
    "\n",
    "        f1 = met.f1_score(test[['is sexual predator']], prediction)\n",
    "        if max_f1 < f1:\n",
    "            max_f1 = f1\n",
    "            best_features =  column_name_subset\n",
    "                                                                                                 \n",
    "print max_f1\n",
    "print best_features"
   ]
  }
 ],
 "metadata": {
  "kernelspec": {
   "display_name": "Python 2",
   "language": "python",
   "name": "python2"
  },
  "language_info": {
   "codemirror_mode": {
    "name": "ipython",
    "version": 2
   },
   "file_extension": ".py",
   "mimetype": "text/x-python",
   "name": "python",
   "nbconvert_exporter": "python",
   "pygments_lexer": "ipython2",
   "version": "2.7.11"
  }
 },
 "nbformat": 4,
 "nbformat_minor": 0
}
