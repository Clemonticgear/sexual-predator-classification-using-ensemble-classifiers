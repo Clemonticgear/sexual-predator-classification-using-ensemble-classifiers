{
 "cells": [
  {
   "cell_type": "code",
   "execution_count": null,
   "metadata": {
    "collapsed": true
   },
   "outputs": [],
   "source": [
    "import numpy as np\n",
    "import pandas as pd\n",
    "from sklearn import svm\n",
    "from sklearn.metrics import accuracy_score\n",
    "from sklearn.metrics import recall_score\n",
    "from sklearn.metrics import precision_score"
   ]
  },
  {
   "cell_type": "code",
   "execution_count": null,
   "metadata": {
    "collapsed": false
   },
   "outputs": [],
   "source": [
    "import sys\n",
    "sys.path.insert(0, '../libs/')\n",
    "%matplotlib inline\n",
    "\n",
    "import FeatureExtraction\n",
    "from lxml import etree\n",
    "\n",
    "training_dataset = '../../dataset/training/pan12-sexual-predator-identification-training-corpus-2012-05-01.xml'\n",
    "test_dataset = '../../dataset/test/pan12-sexual-predator-identification-test-corpus-2012-05-17.xml'\n",
    "\n",
    "sexual_predator_ids_file = '../../dataset/training/pan12-sexual-predator-identification-training-corpus-predators-2012-05-01.txt'\n",
    "\n",
    "chat_based_features_csv='../../csv/chat_based_features_training.csv'"
   ]
  },
  {
   "cell_type": "code",
   "execution_count": null,
   "metadata": {
    "collapsed": true
   },
   "outputs": [],
   "source": [
    "training_tree = etree.parse(training_dataset)"
   ]
  },
  {
   "cell_type": "code",
   "execution_count": null,
   "metadata": {
    "collapsed": false
   },
   "outputs": [],
   "source": [
    "autor_conversation_dictionay = FeatureExtraction.extract_author_conversation_node_dictionary_from_XML(training_tree)\n",
    "sexual_predator_ids = FeatureExtraction.sexual_predator_ids(sexual_predator_ids_file)"
   ]
  },
  {
   "cell_type": "code",
   "execution_count": null,
   "metadata": {
    "collapsed": false,
    "scrolled": true
   },
   "outputs": [],
   "source": [
    "frame=pd.DataFrame(pd.read_csv(chat_based_features_csv))\n"
   ]
  },
  {
   "cell_type": "code",
   "execution_count": null,
   "metadata": {
    "collapsed": false
   },
   "outputs": [],
   "source": [
    "frame[[-1]]\n",
    "frame[[-2,-1]]\n"
   ]
  },
  {
   "cell_type": "code",
   "execution_count": null,
   "metadata": {
    "collapsed": false
   },
   "outputs": [],
   "source": [
    "y=np.zeros(len(frame))\n",
    "for index,row in frame.iterrows():\n",
    "    if(row['autor'] in  sexual_predator_ids):\n",
    "        y[index]=1\n",
    "print(len(y[y==1]))\n",
    "print(len(sexual_predator_ids))"
   ]
  },
  {
   "cell_type": "code",
   "execution_count": null,
   "metadata": {
    "collapsed": false
   },
   "outputs": [],
   "source": [
    "clf=svm.SVC(kernel='linear',cache_size=200,degree=3,shrinking=True)\n",
    "to_excl=['autor','mean time of messages sent','is sexual predator']\n",
    "features=['number of conversation', 'percent of conversations started by the author', 'number of messages sent', 'average percent of lines in conversation', 'number of characters sent by the author']\n",
    "X=frame.ix[:,features]\n",
    "y=np.ravel(frame[[-1]])\n",
    "print(y[y==1])\n",
    "clf.fit(X,y)"
   ]
  },
  {
   "cell_type": "code",
   "execution_count": null,
   "metadata": {
    "collapsed": true
   },
   "outputs": [],
   "source": []
  }
 ],
 "metadata": {
  "kernelspec": {
   "display_name": "Python 2",
   "language": "python",
   "name": "python2"
  },
  "language_info": {
   "codemirror_mode": {
    "name": "ipython",
    "version": 2
   },
   "file_extension": ".py",
   "mimetype": "text/x-python",
   "name": "python",
   "nbconvert_exporter": "python",
   "pygments_lexer": "ipython2",
   "version": "2.7.11"
  }
 },
 "nbformat": 4,
 "nbformat_minor": 0
}
