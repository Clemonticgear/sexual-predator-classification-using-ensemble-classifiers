{
 "cells": [
  {
   "cell_type": "code",
   "execution_count": 37,
   "metadata": {
    "collapsed": false
   },
   "outputs": [],
   "source": [
    "import pandas as pd\n",
    "from sklearn.ensemble import RandomForestClassifier\n",
    "import numpy as np\n",
    "import itertools"
   ]
  },
  {
   "cell_type": "code",
   "execution_count": 5,
   "metadata": {
    "collapsed": true
   },
   "outputs": [],
   "source": [
    "training = pd.read_csv('../../csv/chat_based_features_training.csv')\n",
    "test = pd.read_csv('../../csv/chat_based_features_test.csv')"
   ]
  },
  {
   "cell_type": "code",
   "execution_count": 17,
   "metadata": {
    "collapsed": false
   },
   "outputs": [
    {
     "data": {
      "text/html": [
       "<div>\n",
       "<table border=\"1\" class=\"dataframe\">\n",
       "  <thead>\n",
       "    <tr style=\"text-align: right;\">\n",
       "      <th></th>\n",
       "      <th>autor</th>\n",
       "      <th>number of conversation</th>\n",
       "      <th>percent of conversations started by the author</th>\n",
       "      <th>difference between two preceding lines[s]</th>\n",
       "      <th>number of messages sent</th>\n",
       "      <th>average percent of lines in conversation</th>\n",
       "      <th>average percent of characters in conversation</th>\n",
       "      <th>number of characters sent by the author</th>\n",
       "      <th>mean time of messages sent</th>\n",
       "      <th>is sexual predator</th>\n",
       "    </tr>\n",
       "  </thead>\n",
       "  <tbody>\n",
       "    <tr>\n",
       "      <th>90004</th>\n",
       "      <td>1892883f0abcc6a4ba158fc745aa8538</td>\n",
       "      <td>1</td>\n",
       "      <td>0.000000</td>\n",
       "      <td>0.000000</td>\n",
       "      <td>4</td>\n",
       "      <td>0.800000</td>\n",
       "      <td>0.884615</td>\n",
       "      <td>23</td>\n",
       "      <td>19:04</td>\n",
       "      <td>0</td>\n",
       "    </tr>\n",
       "    <tr>\n",
       "      <th>90005</th>\n",
       "      <td>ab7ced9657817b971afb5e21da60a35d</td>\n",
       "      <td>1</td>\n",
       "      <td>0.000000</td>\n",
       "      <td>0.000000</td>\n",
       "      <td>1</td>\n",
       "      <td>0.250000</td>\n",
       "      <td>0.588235</td>\n",
       "      <td>50</td>\n",
       "      <td>22:52</td>\n",
       "      <td>0</td>\n",
       "    </tr>\n",
       "    <tr>\n",
       "      <th>90006</th>\n",
       "      <td>39bb57ea865ba830ce16c0117e4f19ee</td>\n",
       "      <td>1</td>\n",
       "      <td>0.000000</td>\n",
       "      <td>60.000000</td>\n",
       "      <td>2</td>\n",
       "      <td>0.500000</td>\n",
       "      <td>0.818182</td>\n",
       "      <td>27</td>\n",
       "      <td>21:41</td>\n",
       "      <td>0</td>\n",
       "    </tr>\n",
       "    <tr>\n",
       "      <th>90007</th>\n",
       "      <td>bc724681935f49bbcd8156cfb716d7ce</td>\n",
       "      <td>3</td>\n",
       "      <td>0.666667</td>\n",
       "      <td>234.333333</td>\n",
       "      <td>53</td>\n",
       "      <td>0.490718</td>\n",
       "      <td>0.463103</td>\n",
       "      <td>1194</td>\n",
       "      <td>22:57</td>\n",
       "      <td>0</td>\n",
       "    </tr>\n",
       "    <tr>\n",
       "      <th>90008</th>\n",
       "      <td>fa622ac35fec508c9dcbd336885b18a0</td>\n",
       "      <td>1</td>\n",
       "      <td>0.000000</td>\n",
       "      <td>0.000000</td>\n",
       "      <td>2</td>\n",
       "      <td>0.400000</td>\n",
       "      <td>0.384615</td>\n",
       "      <td>5</td>\n",
       "      <td>00:19</td>\n",
       "      <td>0</td>\n",
       "    </tr>\n",
       "  </tbody>\n",
       "</table>\n",
       "</div>"
      ],
      "text/plain": [
       "                                  autor  number of conversation  \\\n",
       "90004  1892883f0abcc6a4ba158fc745aa8538                       1   \n",
       "90005  ab7ced9657817b971afb5e21da60a35d                       1   \n",
       "90006  39bb57ea865ba830ce16c0117e4f19ee                       1   \n",
       "90007  bc724681935f49bbcd8156cfb716d7ce                       3   \n",
       "90008  fa622ac35fec508c9dcbd336885b18a0                       1   \n",
       "\n",
       "       percent of conversations started by the author  \\\n",
       "90004                                        0.000000   \n",
       "90005                                        0.000000   \n",
       "90006                                        0.000000   \n",
       "90007                                        0.666667   \n",
       "90008                                        0.000000   \n",
       "\n",
       "       difference between two preceding lines[s]  number of messages sent  \\\n",
       "90004                                   0.000000                        4   \n",
       "90005                                   0.000000                        1   \n",
       "90006                                  60.000000                        2   \n",
       "90007                                 234.333333                       53   \n",
       "90008                                   0.000000                        2   \n",
       "\n",
       "       average percent of lines in conversation  \\\n",
       "90004                                  0.800000   \n",
       "90005                                  0.250000   \n",
       "90006                                  0.500000   \n",
       "90007                                  0.490718   \n",
       "90008                                  0.400000   \n",
       "\n",
       "       average percent of characters in conversation  \\\n",
       "90004                                       0.884615   \n",
       "90005                                       0.588235   \n",
       "90006                                       0.818182   \n",
       "90007                                       0.463103   \n",
       "90008                                       0.384615   \n",
       "\n",
       "       number of characters sent by the author mean time of messages sent  \\\n",
       "90004                                       23                      19:04   \n",
       "90005                                       50                      22:52   \n",
       "90006                                       27                      21:41   \n",
       "90007                                     1194                      22:57   \n",
       "90008                                        5                      00:19   \n",
       "\n",
       "       is sexual predator  \n",
       "90004                   0  \n",
       "90005                   0  \n",
       "90006                   0  \n",
       "90007                   0  \n",
       "90008                   0  "
      ]
     },
     "execution_count": 17,
     "metadata": {},
     "output_type": "execute_result"
    }
   ],
   "source": [
    "training.tail()"
   ]
  },
  {
   "cell_type": "code",
   "execution_count": 6,
   "metadata": {
    "collapsed": true
   },
   "outputs": [],
   "source": [
    "forest = RandomForestClassifier(n_estimators = 100)"
   ]
  },
  {
   "cell_type": "code",
   "execution_count": 26,
   "metadata": {
    "collapsed": false
   },
   "outputs": [
    {
     "name": "stderr",
     "output_type": "stream",
     "text": [
      "/home/weenkus/anaconda3/envs/py27/lib/python2.7/site-packages/ipykernel/__main__.py:1: DataConversionWarning: A column-vector y was passed when a 1d array was expected. Please change the shape of y to (n_samples,), for example using ravel().\n",
      "  if __name__ == '__main__':\n"
     ]
    }
   ],
   "source": [
    "forest = forest.fit(training.iloc[:,[1,7]],training.iloc[:,[9]])"
   ]
  },
  {
   "cell_type": "code",
   "execution_count": 30,
   "metadata": {
    "collapsed": false
   },
   "outputs": [],
   "source": [
    "prediction = forest.predict(test.iloc[:,[1,7]])"
   ]
  },
  {
   "cell_type": "code",
   "execution_count": 44,
   "metadata": {
    "collapsed": false
   },
   "outputs": [
    {
     "name": "stdout",
     "output_type": "stream",
     "text": [
      "[0 0 0 ..., 0 0 0]\n"
     ]
    }
   ],
   "source": [
    "print te"
   ]
  },
  {
   "cell_type": "code",
   "execution_count": 43,
   "metadata": {
    "collapsed": false
   },
   "outputs": [
    {
     "name": "stdout",
     "output_type": "stream",
     "text": [
      "('is sexual predator', 0)\n"
     ]
    }
   ],
   "source": [
    "for t,bp in itertools.izip(test.iloc[[1,],[9]], prediction):\n",
    "    print(t,p)"
   ]
  },
  {
   "cell_type": "code",
   "execution_count": null,
   "metadata": {
    "collapsed": true
   },
   "outputs": [],
   "source": []
  },
  {
   "cell_type": "code",
   "execution_count": null,
   "metadata": {
    "collapsed": true
   },
   "outputs": [],
   "source": []
  }
 ],
 "metadata": {
  "kernelspec": {
   "display_name": "Python 2",
   "language": "python",
   "name": "python2"
  },
  "language_info": {
   "codemirror_mode": {
    "name": "ipython",
    "version": 2
   },
   "file_extension": ".py",
   "mimetype": "text/x-python",
   "name": "python",
   "nbconvert_exporter": "python",
   "pygments_lexer": "ipython2",
   "version": "2.7.11"
  }
 },
 "nbformat": 4,
 "nbformat_minor": 0
}
