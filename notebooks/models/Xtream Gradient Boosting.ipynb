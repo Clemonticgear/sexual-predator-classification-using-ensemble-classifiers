{
 "cells": [
  {
   "cell_type": "code",
   "execution_count": 1,
   "metadata": {
    "collapsed": false
   },
   "outputs": [],
   "source": [
    "import pandas as pd\n",
    "import numpy as np\n",
    "#import itertools\n",
    "import sklearn.metrics as met\n",
    "import xgboost as xgb\n",
    "from sklearn.ensemble import RandomForestClassifier\n",
    "import scipy as sp\n",
    "\n",
    "import sys\n",
    "sys.path.insert(0, '../../notebooks/libs/')\n",
    "import FeatureExtraction as FE\n",
    "\n",
    "from sklearn.feature_extraction.text import TfidfVectorizer\n",
    "from sklearn.preprocessing import StandardScaler\n",
    "from sklearn.preprocessing import MaxAbsScaler\n",
    "from sklearn.preprocessing import MinMaxScaler"
   ]
  },
  {
   "cell_type": "code",
   "execution_count": 310,
   "metadata": {
    "collapsed": true
   },
   "outputs": [],
   "source": [
    "training = pd.read_csv('../../csv/chat_based_features_training.csv')\n",
    "test = pd.read_csv('../../csv/chat_based_features_test.csv')"
   ]
  },
  {
   "cell_type": "code",
   "execution_count": 303,
   "metadata": {
    "collapsed": false
   },
   "outputs": [],
   "source": [
    "# Filtering chat based\n",
    "#minimal_number_of_messages_treshold = 2\n",
    "#training = training[training['number of messages sent'] >= minimal_number_of_messages_treshold]\n",
    "#test = test[test['number of messages sent'] >= minimal_number_of_messages_treshold]"
   ]
  },
  {
   "cell_type": "code",
   "execution_count": 311,
   "metadata": {
    "collapsed": false
   },
   "outputs": [],
   "source": [
    "features = ['number of conversation', 'percent of conversations started by the author', 'number of messages sent', 'average percent of lines in conversation', 'number of characters sent by the author']\n",
    "\n",
    "training_sparse = sp.sparse.csr_matrix(training[features].ix[:,1:].values, dtype=float)[:,:-1]\n",
    "test_sparse = sp.sparse.csr_matrix(test[features].ix[:,1:].values, dtype=float)[:,:-1]"
   ]
  },
  {
   "cell_type": "code",
   "execution_count": 312,
   "metadata": {
    "collapsed": true
   },
   "outputs": [],
   "source": [
    "training_xml = '../../dataset/training/pan12-sexual-predator-identification-training-corpus-2012-05-01.xml'\n",
    "test_xml = '../../dataset/test/pan12-sexual-predator-identification-test-corpus-2012-05-17.xml'"
   ]
  },
  {
   "cell_type": "code",
   "execution_count": null,
   "metadata": {
    "collapsed": false
   },
   "outputs": [],
   "source": [
    "# Filtering TF-IDF\n",
    "# Original documents_training = FE.prepare_for_tf_idf(training_xml, False)\n",
    "\n",
    "documents_training = FE.prepare_for_tf_idf(training_xml, False)\n",
    "documents_test = FE.prepare_for_tf_idf(test_xml, False)"
   ]
  },
  {
   "cell_type": "code",
   "execution_count": null,
   "metadata": {
    "collapsed": false
   },
   "outputs": [],
   "source": [
    "tfidf=TfidfVectorizer(stop_words='english', min_df=3, max_features=2500)\n",
    "matrix_training=tfidf.fit_transform(documents_training)\n",
    "matrix_testing=tfidf.transform(documents_test)"
   ]
  },
  {
   "cell_type": "code",
   "execution_count": null,
   "metadata": {
    "collapsed": false
   },
   "outputs": [],
   "source": [
    "print matrix_training.shape\n",
    "print training_sparse.shape"
   ]
  },
  {
   "cell_type": "code",
   "execution_count": null,
   "metadata": {
    "collapsed": false
   },
   "outputs": [],
   "source": [
    "training_all = sp.sparse.hstack((training_sparse, matrix_training))\n",
    "test_all = sp.sparse.hstack((test_sparse, matrix_testing))"
   ]
  },
  {
   "cell_type": "code",
   "execution_count": null,
   "metadata": {
    "collapsed": false
   },
   "outputs": [],
   "source": [
    "scaler=StandardScaler(with_mean=False)\n",
    "training_all=scaler.fit_transform(training_all)\n",
    "test_all=scaler.transform(test_all)"
   ]
  },
  {
   "cell_type": "code",
   "execution_count": null,
   "metadata": {
    "collapsed": false
   },
   "outputs": [],
   "source": [
    "model = xgb.XGBClassifier(max_depth=14, n_estimators=300, learning_rate=0.2, scale_pos_weight=5, gamma=4,\n",
    "                          min_child_weight=5, subsample=1)\n",
    "\n",
    "model.fit(training_all, training[['is sexual predator']])"
   ]
  },
  {
   "cell_type": "code",
   "execution_count": null,
   "metadata": {
    "collapsed": false
   },
   "outputs": [],
   "source": [
    "prediction = model.predict(test_all)"
   ]
  },
  {
   "cell_type": "code",
   "execution_count": null,
   "metadata": {
    "collapsed": false
   },
   "outputs": [],
   "source": [
    "print 'Accuracy: ', met.accuracy_score(test[['is sexual predator']], prediction) \n",
    "print 'Precision: ', met.precision_score(test[['is sexual predator']], prediction)\n",
    "print 'Recall:', met.recall_score(test[['is sexual predator']], prediction)\n",
    "print 'F1:', met.f1_score(test[['is sexual predator']], prediction)\n",
    "print 'F0.5:', met.fbeta_score(test[['is sexual predator']], prediction, 0.5)"
   ]
  },
  {
   "cell_type": "code",
   "execution_count": null,
   "metadata": {
    "collapsed": false
   },
   "outputs": [],
   "source": [
    "column_names = training.columns.values.tolist()[1:-1]\n",
    "print column_names"
   ]
  },
  {
   "cell_type": "code",
   "execution_count": 72,
   "metadata": {
    "collapsed": false
   },
   "outputs": [],
   "source": [
    "#training.tail()"
   ]
  },
  {
   "cell_type": "code",
   "execution_count": 280,
   "metadata": {
    "collapsed": false
   },
   "outputs": [],
   "source": [
    "# Remove scale_post_weight -> smaller F1 score, lower recall but increase precision\n",
    "# Remove gama for bigger precision\n",
    "sex_offender0 = xgb.XGBClassifier(max_depth=13, n_estimators=300, learning_rate=0.007, scale_pos_weight=5, gamma=7)\n",
    "sex_offender1 = xgb.XGBClassifier(max_depth=25, n_estimators=300)\n",
    "sex_offender2 = xgb.XGBClassifier(max_depth=5, n_estimators=220, learning_rate=0.007, scale_pos_weight=20, gamma=2)\n",
    "sex_offender3 = xgb.XGBClassifier(max_depth=3, n_estimators=400)\n",
    "sex_offender4 = xgb.XGBClassifier(max_depth=7, n_estimators=100)"
   ]
  },
  {
   "cell_type": "code",
   "execution_count": 281,
   "metadata": {
    "collapsed": false
   },
   "outputs": [
    {
     "name": "stderr",
     "output_type": "stream",
     "text": [
      "/home/weenkus/anaconda3/envs/py27/lib/python2.7/site-packages/sklearn/preprocessing/label.py:108: DataConversionWarning: A column-vector y was passed when a 1d array was expected. Please change the shape of y to (n_samples, ), for example using ravel().\n",
      "  y = column_or_1d(y, warn=True)\n",
      "/home/weenkus/anaconda3/envs/py27/lib/python2.7/site-packages/sklearn/preprocessing/label.py:108: DataConversionWarning: A column-vector y was passed when a 1d array was expected. Please change the shape of y to (n_samples, ), for example using ravel().\n",
      "  y = column_or_1d(y, warn=True)\n",
      "/home/weenkus/anaconda3/envs/py27/lib/python2.7/site-packages/sklearn/preprocessing/label.py:108: DataConversionWarning: A column-vector y was passed when a 1d array was expected. Please change the shape of y to (n_samples, ), for example using ravel().\n",
      "  y = column_or_1d(y, warn=True)\n",
      "/home/weenkus/anaconda3/envs/py27/lib/python2.7/site-packages/sklearn/preprocessing/label.py:108: DataConversionWarning: A column-vector y was passed when a 1d array was expected. Please change the shape of y to (n_samples, ), for example using ravel().\n",
      "  y = column_or_1d(y, warn=True)\n",
      "/home/weenkus/anaconda3/envs/py27/lib/python2.7/site-packages/sklearn/preprocessing/label.py:108: DataConversionWarning: A column-vector y was passed when a 1d array was expected. Please change the shape of y to (n_samples, ), for example using ravel().\n",
      "  y = column_or_1d(y, warn=True)\n"
     ]
    },
    {
     "data": {
      "text/plain": [
       "XGBClassifier(base_score=0.5, colsample_bylevel=1, colsample_bytree=1,\n",
       "       gamma=0, learning_rate=0.1, max_delta_step=0, max_depth=7,\n",
       "       min_child_weight=1, missing=None, n_estimators=100, nthread=-1,\n",
       "       objective='binary:logistic', reg_alpha=0, reg_lambda=1,\n",
       "       scale_pos_weight=1, seed=0, silent=True, subsample=1)"
      ]
     },
     "execution_count": 281,
     "metadata": {},
     "output_type": "execute_result"
    }
   ],
   "source": [
    "sex_offender0.fit(training_all, training.iloc[:,[9]])\n",
    "sex_offender1.fit(training_all, training.iloc[:,[9]])\n",
    "sex_offender2.fit(training_all, training.iloc[:,[9]])\n",
    "sex_offender3.fit(training_all, training.iloc[:,[9]])\n",
    "sex_offender4.fit(training_all, training.iloc[:,[9]])"
   ]
  },
  {
   "cell_type": "code",
   "execution_count": 282,
   "metadata": {
    "collapsed": false
   },
   "outputs": [],
   "source": [
    "prediction0 = sex_offender0.predict(test_all)\n",
    "prediction1 = sex_offender1.predict(test_all)\n",
    "prediction2 = sex_offender2.predict(test_all)\n",
    "prediction3 = sex_offender3.predict(test_all)\n",
    "prediction4 = sex_offender4.predict(test_all)"
   ]
  },
  {
   "cell_type": "code",
   "execution_count": 283,
   "metadata": {
    "collapsed": true
   },
   "outputs": [],
   "source": [
    "def bagging(vote_number, prediction_list):\n",
    "    total_prediction = []\n",
    "    for i in range(len(prediction_list[0])):\n",
    "        voters = 0\n",
    "        \n",
    "        for prediction in prediction_list:\n",
    "            if prediction[i] == 1:\n",
    "                voters += 1\n",
    "                \n",
    "        if voters >= vote_number:\n",
    "            total_prediction.append(1)\n",
    "        else:\n",
    "            total_prediction.append(0)\n",
    "                \n",
    "    return np.array(total_prediction)"
   ]
  },
  {
   "cell_type": "code",
   "execution_count": 288,
   "metadata": {
    "collapsed": false
   },
   "outputs": [],
   "source": [
    "prediction = bagging(4, [prediction0, prediction1, prediction2, prediction3, prediction4])"
   ]
  },
  {
   "cell_type": "code",
   "execution_count": 289,
   "metadata": {
    "collapsed": false
   },
   "outputs": [
    {
     "name": "stdout",
     "output_type": "stream",
     "text": [
      "Accuracy:  0.999286700625\n",
      "Precision:  0.855072463768\n",
      "Recall: 0.464566929134\n",
      "F1: 0.602040816327\n",
      "F0.5: 0.732009925558\n"
     ]
    }
   ],
   "source": [
    "print 'Accuracy: ', met.accuracy_score(test[['is sexual predator']], prediction) \n",
    "print 'Precision: ', met.precision_score(test[['is sexual predator']], prediction)\n",
    "print 'Recall:', met.recall_score(test[['is sexual predator']], prediction)\n",
    "print 'F1:', met.fbeta_score(test[['is sexual predator']], prediction, 1)\n",
    "print 'F0.5:', met.fbeta_score(test[['is sexual predator']], prediction, 0.5)"
   ]
  },
  {
   "cell_type": "code",
   "execution_count": null,
   "metadata": {
    "collapsed": false
   },
   "outputs": [],
   "source": [
    "forest = RandomForestClassifier(n_estimators = 100)\n",
    "\n",
    "max_f1 = 0\n",
    "best_features = []\n",
    "\n",
    "for num_features in range(2, len(column_names)-1):\n",
    "    for column_name_subset in itertools.combinations(column_names, num_features):\n",
    "\n",
    "        forest = forest.fit(training[list(column_name_subset)], np.ravel(training.iloc[:,[9]]))\n",
    "        prediction = forest.predict(test[list(column_name_subset)])\n",
    "\n",
    "        print column_name_subset\n",
    "        print 'Accuracy: ', met.accuracy_score(test[['is sexual predator']], prediction) \n",
    "        print 'Precision: ', met.precision_score(test[['is sexual predator']], prediction)\n",
    "        print 'Recall:', met.recall_score(test[['is sexual predator']], prediction)\n",
    "        print 'F1:', met.f1_score(test[['is sexual predator']], prediction)\n",
    "        print \"\\n\\n\"\n",
    "\n",
    "        f1 = met.f1_score(test[['is sexual predator']], prediction)\n",
    "        if max_f1 < f1:\n",
    "            max_f1 = f1\n",
    "            best_features =  column_name_subset\n",
    "                                                                                                 \n",
    "print max_f1\n",
    "print best_features"
   ]
  },
  {
   "cell_type": "code",
   "execution_count": null,
   "metadata": {
    "collapsed": true
   },
   "outputs": [],
   "source": []
  },
  {
   "cell_type": "code",
   "execution_count": null,
   "metadata": {
    "collapsed": true
   },
   "outputs": [],
   "source": []
  }
 ],
 "metadata": {
  "kernelspec": {
   "display_name": "Python 2",
   "language": "python",
   "name": "python2"
  },
  "language_info": {
   "codemirror_mode": {
    "name": "ipython",
    "version": 2
   },
   "file_extension": ".py",
   "mimetype": "text/x-python",
   "name": "python",
   "nbconvert_exporter": "python",
   "pygments_lexer": "ipython2",
   "version": "2.7.11"
  }
 },
 "nbformat": 4,
 "nbformat_minor": 0
}
