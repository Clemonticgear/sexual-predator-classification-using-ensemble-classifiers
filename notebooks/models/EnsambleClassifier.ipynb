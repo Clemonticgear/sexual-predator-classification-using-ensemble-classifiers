{
 "cells": [
  {
   "cell_type": "code",
   "execution_count": 16,
   "metadata": {
    "collapsed": true
   },
   "outputs": [],
   "source": [
    "import pandas as pd\n",
    "import numpy as np\n",
    "import itertools\n",
    "import sklearn.metrics as met\n",
    "import scipy as sp\n",
    "\n",
    "import sys\n",
    "sys.path.insert(0, '../../notebooks/libs/')\n",
    "import FeatureExtraction as FE\n",
    "\n",
    "\n",
    "from sklearn import svm\n",
    "from sklearn import linear_model\n",
    "from sklearn.metrics import accuracy_score\n",
    "from sklearn.metrics import recall_score\n",
    "from sklearn.metrics import precision_score\n",
    "from sklearn.metrics import f1_score\n",
    "from sklearn.metrics import fbeta_score\n",
    "\n",
    "import sklearn.metrics as met\n",
    "import xgboost as xgb\n",
    "from sklearn.ensemble import RandomForestClassifier\n",
    "\n",
    "\n",
    "from sklearn.feature_extraction.text import TfidfVectorizer\n",
    "from sklearn.preprocessing import StandardScaler\n",
    "from sklearn.preprocessing import MaxAbsScaler\n",
    "from sklearn.preprocessing import MinMaxScaler"
   ]
  },
  {
   "cell_type": "code",
   "execution_count": 17,
   "metadata": {
    "collapsed": true
   },
   "outputs": [],
   "source": [
    "training = pd.read_csv('../../csv/chat_based_features_training.csv')\n",
    "test = pd.read_csv('../../csv/chat_based_features_test.csv')\n",
    "\n",
    "training_sparse_chat_based = sp.sparse.csr_matrix(training.ix[:,1:].values, dtype=float)[:,:-1]\n",
    "test_sparse_chat_based = sp.sparse.csr_matrix(test.ix[:,1:].values, dtype=float)[:,:-1]"
   ]
  },
  {
   "cell_type": "code",
   "execution_count": 18,
   "metadata": {
    "collapsed": true
   },
   "outputs": [],
   "source": [
    "training_xml = '../../dataset/training/pan12-sexual-predator-identification-training-corpus-2012-05-01.xml'\n",
    "test_xml = '../../dataset/test/pan12-sexual-predator-identification-test-corpus-2012-05-17.xml'\n",
    "\n",
    "documents_training = FE.prepare_for_tf_idf(training_xml, False)\n",
    "documents_test = FE.prepare_for_tf_idf(test_xml, False)"
   ]
  },
  {
   "cell_type": "code",
   "execution_count": 19,
   "metadata": {
    "collapsed": true
   },
   "outputs": [],
   "source": [
    "tfidf = TfidfVectorizer(stop_words='english', min_df=3, max_features=3500)\n",
    "\n",
    "training_sparse_tfidf = tfidf.fit_transform(documents_training)\n",
    "testing_sparse_tfidf = tfidf.transform(documents_test)"
   ]
  },
  {
   "cell_type": "code",
   "execution_count": 20,
   "metadata": {
    "collapsed": true
   },
   "outputs": [],
   "source": [
    "scaler = MaxAbsScaler()\n",
    "\n",
    "training_sparse_chat_based_scaled = scaler.fit_transform(training_sparse_chat_based)\n",
    "test_sparse_chat_based_scaled = scaler.transform(test_sparse_chat_based)"
   ]
  },
  {
   "cell_type": "code",
   "execution_count": 73,
   "metadata": {
    "collapsed": false
   },
   "outputs": [],
   "source": [
    "chat_based_scaled_and_tfidf_training = sp.sparse.hstack((\n",
    "    training_sparse_tfidf, training_sparse_chat_based_scaled))\n",
    "\n",
    "chat_based_scaled_and_tfidf_test = sp.sparse.hstack((\n",
    "    testing_sparse_tfidf, test_sparse_chat_based_scaled))"
   ]
  },
  {
   "cell_type": "code",
   "execution_count": 74,
   "metadata": {
    "collapsed": false
   },
   "outputs": [
    {
     "name": "stderr",
     "output_type": "stream",
     "text": [
      "/home/weenkus/anaconda3/envs/py27/lib/python2.7/site-packages/sklearn/preprocessing/label.py:108: DataConversionWarning: A column-vector y was passed when a 1d array was expected. Please change the shape of y to (n_samples, ), for example using ravel().\n",
      "  y = column_or_1d(y, warn=True)\n",
      "/home/weenkus/anaconda3/envs/py27/lib/python2.7/site-packages/sklearn/preprocessing/label.py:108: DataConversionWarning: A column-vector y was passed when a 1d array was expected. Please change the shape of y to (n_samples, ), for example using ravel().\n",
      "  y = column_or_1d(y, warn=True)\n",
      "/home/weenkus/anaconda3/envs/py27/lib/python2.7/site-packages/sklearn/preprocessing/label.py:108: DataConversionWarning: A column-vector y was passed when a 1d array was expected. Please change the shape of y to (n_samples, ), for example using ravel().\n",
      "  y = column_or_1d(y, warn=True)\n",
      "/home/weenkus/anaconda3/envs/py27/lib/python2.7/site-packages/sklearn/preprocessing/label.py:108: DataConversionWarning: A column-vector y was passed when a 1d array was expected. Please change the shape of y to (n_samples, ), for example using ravel().\n",
      "  y = column_or_1d(y, warn=True)\n",
      "/home/weenkus/anaconda3/envs/py27/lib/python2.7/site-packages/sklearn/preprocessing/label.py:108: DataConversionWarning: A column-vector y was passed when a 1d array was expected. Please change the shape of y to (n_samples, ), for example using ravel().\n",
      "  y = column_or_1d(y, warn=True)\n"
     ]
    }
   ],
   "source": [
    "xgb_all_1 = xgb.XGBClassifier(max_depth=13, n_estimators=300, learning_rate=0.007, scale_pos_weight=5, gamma=7)\n",
    "xgb_all_2 = xgb.XGBClassifier(max_depth=25, n_estimators=300)\n",
    "xgb_all_3 = xgb.XGBClassifier(max_depth=5, n_estimators=220, learning_rate=0.007, scale_pos_weight=20, gamma=2)\n",
    "xgb_all_4 = xgb.XGBClassifier(max_depth=3, n_estimators=400)\n",
    "xgb_all_5 = xgb.XGBClassifier(max_depth=7, n_estimators=100)\n",
    "\n",
    "xgb_all_1.fit(chat_based_scaled_and_tfidf_training, training[['is sexual predator']])\n",
    "xgb_all_2.fit(chat_based_scaled_and_tfidf_training, training[['is sexual predator']])\n",
    "xgb_all_3.fit(chat_based_scaled_and_tfidf_training, training[['is sexual predator']])\n",
    "xgb_all_4.fit(chat_based_scaled_and_tfidf_training, training[['is sexual predator']])\n",
    "xgb_all_5.fit(chat_based_scaled_and_tfidf_training, training[['is sexual predator']])\n",
    "\n",
    "prediction0 = xgb_all_1.predict(chat_based_scaled_and_tfidf_test)\n",
    "prediction1 = xgb_all_2.predict(chat_based_scaled_and_tfidf_test)\n",
    "prediction2 = xgb_all_3.predict(chat_based_scaled_and_tfidf_test)\n",
    "prediction3 = xgb_all_4.predict(chat_based_scaled_and_tfidf_test)\n",
    "prediction4 = xgb_all_5.predict(chat_based_scaled_and_tfidf_test)"
   ]
  },
  {
   "cell_type": "code",
   "execution_count": 75,
   "metadata": {
    "collapsed": false
   },
   "outputs": [
    {
     "name": "stdout",
     "output_type": "stream",
     "text": [
      "Accuracy:  0.998843174731\n",
      "Precision:  0.501416430595\n",
      "Recall: 0.696850393701\n",
      "F1: 0.583196046129\n"
     ]
    }
   ],
   "source": [
    "def bagging(vote_number, prediction_list):\n",
    "    total_prediction = []\n",
    "    for i in range(len(prediction_list[0])):\n",
    "        voters = 0\n",
    "        \n",
    "        for prediction in prediction_list:\n",
    "            if prediction[i] == 1:\n",
    "                voters += 1\n",
    "                \n",
    "        if voters >= vote_number:\n",
    "            total_prediction.append(1)\n",
    "        else:\n",
    "            total_prediction.append(0)\n",
    "                \n",
    "    return np.array(total_prediction)\n",
    "\n",
    "xgb_all_prediction_bagged = bagging(1, [prediction0, prediction1, prediction2, prediction3, prediction4])\n",
    "\n",
    "print 'Accuracy: ', met.accuracy_score(test[['is sexual predator']], xgb_all_prediction_bagged) \n",
    "print 'Precision: ', met.precision_score(test[['is sexual predator']], xgb_all_prediction_bagged)\n",
    "print 'Recall:', met.recall_score(test[['is sexual predator']], xgb_all_prediction_bagged)\n",
    "print 'F1:', met.fbeta_score(test[['is sexual predator']], xgb_all_prediction_bagged, 1)"
   ]
  },
  {
   "cell_type": "code",
   "execution_count": 56,
   "metadata": {
    "collapsed": false
   },
   "outputs": [
    {
     "name": "stderr",
     "output_type": "stream",
     "text": [
      "/home/weenkus/anaconda3/envs/py27/lib/python2.7/site-packages/ipykernel/__main__.py:2: DataConversionWarning: A column-vector y was passed when a 1d array was expected. Please change the shape of y to (n_samples,), for example using ravel().\n",
      "  from ipykernel import kernelapp as app\n",
      "/home/weenkus/anaconda3/envs/py27/lib/python2.7/site-packages/sklearn/preprocessing/label.py:108: DataConversionWarning: A column-vector y was passed when a 1d array was expected. Please change the shape of y to (n_samples, ), for example using ravel().\n",
      "  y = column_or_1d(y, warn=True)\n",
      "/home/weenkus/anaconda3/envs/py27/lib/python2.7/site-packages/sklearn/preprocessing/label.py:108: DataConversionWarning: A column-vector y was passed when a 1d array was expected. Please change the shape of y to (n_samples, ), for example using ravel().\n",
      "  y = column_or_1d(y, warn=True)\n",
      "/home/weenkus/anaconda3/envs/py27/lib/python2.7/site-packages/sklearn/svm/base.py:514: DataConversionWarning: A column-vector y was passed when a 1d array was expected. Please change the shape of y to (n_samples, ), for example using ravel().\n",
      "  y_ = column_or_1d(y, warn=True)\n"
     ]
    }
   ],
   "source": [
    "rf_chat_based = RandomForestClassifier(n_estimators=230, n_jobs=8, bootstrap=False)\n",
    "rf_chat_based = rf_chat_based.fit(training_sparse_chat_based_scaled, training[['is sexual predator']])\n",
    "rf_chat_based_predicition = rf_chat_based.predict(test_sparse_chat_based_scaled)\n",
    "\n",
    "xgb_all = xgb.XGBClassifier(max_depth=25, n_estimators=300, learning_rate=0.007, scale_pos_weight=5, gamma=7, objective='binary:logistic')\n",
    "xgb_all.fit(chat_based_scaled_and_tfidf_training, training[['is sexual predator']])\n",
    "xgb_all_prediction = xgb_all.predict(chat_based_scaled_and_tfidf_test)\n",
    "\n",
    "xgb_chat_based = xgb.XGBClassifier(max_depth=25, n_estimators=300, learning_rate=0.007, scale_pos_weight=5, gamma=7, objective='binary:logistic')\n",
    "xgb_chat_based.fit(training_sparse_chat_based_scaled, training[['is sexual predator']])\n",
    "xgb_chat_based_prediction = xgb_chat_based.predict(test_sparse_chat_based_scaled)\n",
    "\n",
    "svm_tfidf = svm.SVC(C=0.4, kernel='linear', max_iter=100)\n",
    "svm_tfidf.fit(training_sparse_tfidf, training[['is sexual predator']])\n",
    "svm_tfidf_predicition  = svm_tfidf.predict(testing_sparse_tfidf)"
   ]
  },
  {
   "cell_type": "code",
   "execution_count": 67,
   "metadata": {
    "collapsed": true
   },
   "outputs": [],
   "source": [
    "ensamble_prediction = bagging(3, [svm_tfidf_predicition, rf_chat_based_predicition, xgb_all_prediction_bagged,\n",
    "                                 xgb_all_prediction, xgb_chat_based_prediction])"
   ]
  },
  {
   "cell_type": "code",
   "execution_count": 68,
   "metadata": {
    "collapsed": false
   },
   "outputs": [
    {
     "name": "stdout",
     "output_type": "stream",
     "text": [
      "Accuracy:  0.999250121169\n",
      "Precision:  0.704545454545\n",
      "Recall: 0.610236220472\n",
      "F1: 0.654008438819\n"
     ]
    }
   ],
   "source": [
    "print 'Accuracy: ', met.accuracy_score(test[['is sexual predator']], ensamble_prediction) \n",
    "print 'Precision: ', met.precision_score(test[['is sexual predator']], ensamble_prediction)\n",
    "print 'Recall:', met.recall_score(test[['is sexual predator']], ensamble_prediction)\n",
    "print 'F1:', met.fbeta_score(test[['is sexual predator']], ensamble_prediction, 1)"
   ]
  },
  {
   "cell_type": "code",
   "execution_count": null,
   "metadata": {
    "collapsed": true
   },
   "outputs": [],
   "source": []
  }
 ],
 "metadata": {
  "kernelspec": {
   "display_name": "Python 2",
   "language": "python",
   "name": "python2"
  },
  "language_info": {
   "codemirror_mode": {
    "name": "ipython",
    "version": 2
   },
   "file_extension": ".py",
   "mimetype": "text/x-python",
   "name": "python",
   "nbconvert_exporter": "python",
   "pygments_lexer": "ipython2",
   "version": "2.7.11"
  }
 },
 "nbformat": 4,
 "nbformat_minor": 0
}
