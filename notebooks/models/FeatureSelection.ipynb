{
 "cells": [
  {
   "cell_type": "code",
   "execution_count": 109,
   "metadata": {
    "collapsed": false
   },
   "outputs": [],
   "source": [
    "import sys\n",
    "import numpy as np\n",
    "import scipy as sp\n",
    "import pandas as pd\n",
    "from sklearn import svm\n",
    "from sklearn import linear_model\n",
    "from sklearn.metrics import accuracy_score\n",
    "from sklearn.metrics import recall_score\n",
    "from sklearn.metrics import precision_score\n",
    "from sklearn.metrics import f1_score\n",
    "from sklearn.metrics import fbeta_score\n",
    "from sklearn.cross_validation import train_test_split\n",
    "sys.path.insert(0, '../../notebooks/libs/')\n",
    "import FeatureExtraction as FE\n",
    "from sklearn.feature_extraction.text import TfidfVectorizer\n",
    "from sklearn.preprocessing import StandardScaler\n",
    "\n",
    "from sklearn.grid_search import GridSearchCV\n",
    "from sklearn.pipeline import make_pipeline\n",
    "from sklearn.preprocessing import StandardScaler"
   ]
  },
  {
   "cell_type": "code",
   "execution_count": 10,
   "metadata": {
    "collapsed": true
   },
   "outputs": [],
   "source": [
    "import sys\n",
    "sys.path.insert(0, '../libs/')\n",
    "%matplotlib inline\n",
    "\n",
    "import FeatureExtraction\n",
    "from lxml import etree\n",
    "\n",
    "training_xml = '../../dataset/training/pan12-sexual-predator-identification-training-corpus-2012-05-01.xml'\n",
    "test_xml = '../../dataset/test/pan12-sexual-predator-identification-test-corpus-2012-05-17.xml'\n",
    "\n",
    "sexual_predator_ids_file = '../../dataset/training/pan12-sexual-predator-identification-training-corpus-predators-2012-05-01.txt'\n",
    "\n",
    "chat_based_features_csv_train='../../csv/chat_based_features_training.csv'\n",
    "chat_based_features_csv_test='../../csv/chat_based_features_test.csv'"
   ]
  },
  {
   "cell_type": "code",
   "execution_count": 11,
   "metadata": {
    "collapsed": true
   },
   "outputs": [],
   "source": [
    "def write_statistics(y_test,predicted_test):\n",
    "    print(\"\\ntest statistics\")\n",
    "    print('acc',accuracy_score(y_test,predicted_test))\n",
    "    print('rec',recall_score(y_test,predicted_test))\n",
    "    print('prec',precision_score(y_test,predicted_test))\n",
    "    print('f1',f1_score(y_test,predicted_test))\n",
    "    print('f0.5',fbeta_score(y_test,predicted_test,0.5))"
   ]
  },
  {
   "cell_type": "code",
   "execution_count": 4,
   "metadata": {
    "collapsed": true
   },
   "outputs": [],
   "source": [
    "minimal_number_of_messages_treshold=5"
   ]
  },
  {
   "cell_type": "code",
   "execution_count": 5,
   "metadata": {
    "collapsed": true
   },
   "outputs": [],
   "source": [
    "documents_training=FE.prepare_for_tf_idf(training_xml,False,True,minimal_number_of_messages_treshold)\n",
    "document_testing=FE.prepare_for_tf_idf(test_xml,False,True,minimal_number_of_messages_treshold)"
   ]
  },
  {
   "cell_type": "code",
   "execution_count": 7,
   "metadata": {
    "collapsed": false
   },
   "outputs": [
    {
     "name": "stdout",
     "output_type": "stream",
     "text": [
      "22063\n",
      "47458\n"
     ]
    }
   ],
   "source": [
    "train_frame=pd.DataFrame(pd.read_csv(chat_based_features_csv_train))\n",
    "test_frame=pd.DataFrame(pd.read_csv(chat_based_features_csv_test))\n",
    "train_frame=train_frame[train_frame['number of messages sent'] >=minimal_number_of_messages_treshold]\n",
    "test_frame=test_frame[test_frame['number of messages sent']>=minimal_number_of_messages_treshold]\n",
    "print(len(train_frame))\n",
    "print(len(test_frame))\n",
    "X_train_chat_based=train_frame.ix[:,1:-1]\n",
    "y_train=np.ravel(train_frame[[-1]])\n",
    "X_test_chat_based=test_frame.ix[:,1:-1]\n",
    "y_test=np.ravel(test_frame[[-1]])"
   ]
  },
  {
   "cell_type": "code",
   "execution_count": 8,
   "metadata": {
    "collapsed": false
   },
   "outputs": [],
   "source": [
    "tfidf=TfidfVectorizer(stop_words='english',min_df=3,max_features=3500)\n",
    "matrix_training=tfidf.fit_transform(documents_training)\n",
    "matrix_testing=tfidf.transform(document_testing)"
   ]
  },
  {
   "cell_type": "code",
   "execution_count": 101,
   "metadata": {
    "collapsed": false
   },
   "outputs": [
    {
     "name": "stdout",
     "output_type": "stream",
     "text": [
      "\n",
      "test statistics\n",
      "('acc', 0.9969868093893548)\n",
      "('rec', 0.45833333333333331)\n",
      "('prec', 0.89430894308943087)\n",
      "('f1', 0.60606060606060608)\n",
      "('f0.5', 0.75136612021857929)\n"
     ]
    }
   ],
   "source": [
    "classifier=svm.SVC(C=0.7454,kernel='linear',max_iter=100)\n",
    "classifier.fit(matrix_training,y_train)\n",
    "predicted_test=classifier.predict(matrix_testing)\n",
    "write_statistics(y_test,predicted_test)"
   ]
  },
  {
   "cell_type": "code",
   "execution_count": 133,
   "metadata": {
    "collapsed": false
   },
   "outputs": [
    {
     "name": "stdout",
     "output_type": "stream",
     "text": [
      "{'C': [0.5, 0.51010101010101006, 0.52020202020202022, 0.53030303030303028, 0.54040404040404044, 0.5505050505050505, 0.56060606060606055, 0.57070707070707072, 0.58080808080808077, 0.59090909090909094, 0.60101010101010099, 0.61111111111111116, 0.62121212121212122, 0.63131313131313127, 0.64141414141414144, 0.65151515151515149, 0.66161616161616166, 0.67171717171717171, 0.68181818181818188, 0.69191919191919193, 0.70202020202020199, 0.71212121212121215, 0.72222222222222221, 0.73232323232323238, 0.74242424242424243, 0.7525252525252526, 0.76262626262626265, 0.77272727272727271, 0.78282828282828287, 0.79292929292929293, 0.80303030303030298, 0.81313131313131315, 0.82323232323232332, 0.83333333333333337, 0.84343434343434343, 0.85353535353535359, 0.86363636363636365, 0.8737373737373737, 0.88383838383838387, 0.89393939393939403, 0.90404040404040409, 0.91414141414141414, 0.92424242424242431, 0.93434343434343436, 0.94444444444444442, 0.95454545454545459, 0.96464646464646475, 0.97474747474747481, 0.98484848484848486, 0.99494949494949503, 1.0050505050505052, 1.0151515151515151, 1.0252525252525253, 1.0353535353535355, 1.0454545454545454, 1.0555555555555556, 1.0656565656565657, 1.0757575757575757, 1.0858585858585859, 1.095959595959596, 1.106060606060606, 1.1161616161616164, 1.1262626262626263, 1.1363636363636365, 1.1464646464646466, 1.1565656565656566, 1.1666666666666667, 1.1767676767676769, 1.1868686868686869, 1.196969696969697, 1.2070707070707072, 1.2171717171717171, 1.2272727272727273, 1.2373737373737375, 1.2474747474747474, 1.2575757575757578, 1.2676767676767677, 1.2777777777777777, 1.2878787878787881, 1.297979797979798, 1.3080808080808082, 1.3181818181818183, 1.3282828282828283, 1.3383838383838385, 1.3484848484848486, 1.3585858585858586, 1.3686868686868687, 1.3787878787878789, 1.3888888888888888, 1.3989898989898992, 1.4090909090909092, 1.4191919191919191, 1.4292929292929295, 1.4393939393939394, 1.4494949494949496, 1.4595959595959598, 1.4696969696969697, 1.4797979797979799, 1.4898989898989901, 1.5]}\n"
     ]
    }
   ],
   "source": [
    "Cs={'C':[x for x in np.linspace(0.5,1.5,100)]}\n",
    "dic_for_pipe={'svc':[Cs]}\n",
    "print(Cs)"
   ]
  },
  {
   "cell_type": "code",
   "execution_count": 134,
   "metadata": {
    "collapsed": false
   },
   "outputs": [
    {
     "name": "stdout",
     "output_type": "stream",
     "text": [
      "('koraci', [('standardscaler', StandardScaler(copy=True, with_mean=False, with_std=True)), ('svc', SVC(C=1.0, cache_size=200, class_weight=None, coef0=0.0,\n",
      "  decision_function_shape=None, degree=3, gamma='auto', kernel='linear',\n",
      "  max_iter=100, probability=False, random_state=5, shrinking=True,\n",
      "  tol=0.001, verbose=False))])\n"
     ]
    },
    {
     "data": {
      "text/plain": [
       "GridSearchCV(cv=None, error_score='raise',\n",
       "       estimator=SVC(C=1.0, cache_size=200, class_weight=None, coef0=0.0,\n",
       "  decision_function_shape=None, degree=3, gamma='auto', kernel='linear',\n",
       "  max_iter=100, probability=False, random_state=5, shrinking=True,\n",
       "  tol=0.001, verbose=False),\n",
       "       fit_params={}, iid=True, n_jobs=8,\n",
       "       param_grid={'C': [0.5, 0.51010101010101006, 0.52020202020202022, 0.53030303030303028, 0.54040404040404044, 0.5505050505050505, 0.56060606060606055, 0.57070707070707072, 0.58080808080808077, 0.59090909090909094, 0.60101010101010099, 0.61111111111111116, 0.62121212121212122, 0.63131313131313127, 0.641...4949494949496, 1.4595959595959598, 1.4696969696969697, 1.4797979797979799, 1.4898989898989901, 1.5]},\n",
       "       pre_dispatch='2*n_jobs', refit=True, scoring=None, verbose=0)"
      ]
     },
     "execution_count": 134,
     "metadata": {},
     "output_type": "execute_result"
    }
   ],
   "source": [
    "linsvm= svm.SVC(kernel='linear',max_iter=100,random_state=5)\n",
    "est=clf = make_pipeline(StandardScaler(with_mean=False), linsvm)\n",
    "\n",
    "print('koraci',est.steps)\n",
    "#grid_search=GridSearchCV(estimator=est,param_grid=dic_for_pipe,n_jobs=8)\n",
    "grid_search=GridSearchCV(estimator=linsvm,param_grid=Cs,n_jobs=8)\n",
    "grid_search"
   ]
  },
  {
   "cell_type": "code",
   "execution_count": null,
   "metadata": {
    "collapsed": true
   },
   "outputs": [],
   "source": []
  },
  {
   "cell_type": "code",
   "execution_count": null,
   "metadata": {
    "collapsed": false
   },
   "outputs": [],
   "source": [
    "grid_search.fit(matrix_training,y_train)\n",
    "pred=grid_search.predict(matrix_testing)\n",
    "write_statistics(y_test,pred)"
   ]
  },
  {
   "cell_type": "code",
   "execution_count": null,
   "metadata": {
    "collapsed": false
   },
   "outputs": [],
   "source": [
    "grid_search.best_estimator_"
   ]
  }
 ],
 "metadata": {
  "kernelspec": {
   "display_name": "Python 2",
   "language": "python",
   "name": "python2"
  },
  "language_info": {
   "codemirror_mode": {
    "name": "ipython",
    "version": 2
   },
   "file_extension": ".py",
   "mimetype": "text/x-python",
   "name": "python",
   "nbconvert_exporter": "python",
   "pygments_lexer": "ipython2",
   "version": "2.7.11"
  }
 },
 "nbformat": 4,
 "nbformat_minor": 0
}
